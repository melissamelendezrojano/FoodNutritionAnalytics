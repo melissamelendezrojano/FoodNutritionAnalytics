{
 "cells": [
  {
   "cell_type": "markdown",
   "id": "667fd075-23d5-4148-98dc-222eb486396b",
   "metadata": {},
   "source": [
    "## **Before answering the questions, I perform an EDA.**"
   ]
  },
  {
   "cell_type": "code",
   "execution_count": 3,
   "id": "180a064d-3a85-4a52-8724-5ddd33030ef0",
   "metadata": {
    "executionCancelledAt": null,
    "executionTime": 15,
    "lastExecutedAt": 1715243343285,
    "lastExecutedByKernel": "ca0ad6c6-0dd9-48e8-8124-171b9d3044ff",
    "lastScheduledRunId": null,
    "lastSuccessfullyExecutedCode": "import numpy as np\nimport pandas as pd\nimport matplotlib.pyplot as plt\nfrom sklearn.linear_model import LinearRegression\nfrom sklearn.metrics import mean_squared_error, mean_absolute_error\nimport seaborn as sns\nsns.set()"
   },
   "outputs": [],
   "source": [
    "import numpy as np\n",
    "import pandas as pd\n",
    "import matplotlib.pyplot as plt\n",
    "from sklearn.linear_model import LinearRegression\n",
    "from sklearn.metrics import mean_squared_error, mean_absolute_error\n",
    "import seaborn as sns\n",
    "sns.set()"
   ]
  },
  {
   "cell_type": "code",
   "execution_count": 4,
   "id": "07ee76ec-6cc0-4cc7-b6ed-eba4feb6ca0b",
   "metadata": {
    "executionCancelledAt": null,
    "executionTime": 50,
    "lastExecutedAt": 1715243343336,
    "lastExecutedByKernel": "ca0ad6c6-0dd9-48e8-8124-171b9d3044ff",
    "lastScheduledRunId": null,
    "lastSuccessfullyExecutedCode": "df_food = pd.read_csv('nutrition.csv')\ndf_food.head()",
    "outputsMetadata": {
     "0": {
      "height": 196,
      "type": "dataFrame"
     }
    }
   },
   "outputs": [
    {
     "data": {
      "text/html": [
       "<div>\n",
       "<style scoped>\n",
       "    .dataframe tbody tr th:only-of-type {\n",
       "        vertical-align: middle;\n",
       "    }\n",
       "\n",
       "    .dataframe tbody tr th {\n",
       "        vertical-align: top;\n",
       "    }\n",
       "\n",
       "    .dataframe thead th {\n",
       "        text-align: right;\n",
       "    }\n",
       "</style>\n",
       "<table border=\"1\" class=\"dataframe\">\n",
       "  <thead>\n",
       "    <tr style=\"text-align: right;\">\n",
       "      <th></th>\n",
       "      <th>FDC_ID</th>\n",
       "      <th>Item</th>\n",
       "      <th>Category</th>\n",
       "      <th>Calories</th>\n",
       "      <th>Protein</th>\n",
       "      <th>Carbohydrate</th>\n",
       "      <th>Total fat</th>\n",
       "      <th>Cholesterol</th>\n",
       "      <th>Fiber</th>\n",
       "      <th>Water</th>\n",
       "      <th>Alcohol</th>\n",
       "      <th>Vitamin C</th>\n",
       "    </tr>\n",
       "  </thead>\n",
       "  <tbody>\n",
       "    <tr>\n",
       "      <th>0</th>\n",
       "      <td>167512</td>\n",
       "      <td>Pillsbury Golden Layer Buttermilk Biscuits, Ar...</td>\n",
       "      <td>Baked Products</td>\n",
       "      <td>307.0 kcal</td>\n",
       "      <td>5.88 g</td>\n",
       "      <td>41.18 g</td>\n",
       "      <td>13.24 g</td>\n",
       "      <td>0.0 mg</td>\n",
       "      <td>1.2 g</td>\n",
       "      <td>35.5 g</td>\n",
       "      <td>NaN</td>\n",
       "      <td>NaN</td>\n",
       "    </tr>\n",
       "    <tr>\n",
       "      <th>1</th>\n",
       "      <td>167513</td>\n",
       "      <td>Pillsbury, Cinnamon Rolls with Icing, refriger...</td>\n",
       "      <td>Baked Products</td>\n",
       "      <td>330.0 kcal</td>\n",
       "      <td>4.34 g</td>\n",
       "      <td>53.42 g</td>\n",
       "      <td>11.27 g</td>\n",
       "      <td>0.0 mg</td>\n",
       "      <td>1.4 g</td>\n",
       "      <td>27.86 g</td>\n",
       "      <td>NaN</td>\n",
       "      <td>0.1 mg</td>\n",
       "    </tr>\n",
       "    <tr>\n",
       "      <th>2</th>\n",
       "      <td>167514</td>\n",
       "      <td>Kraft Foods, Shake N Bake Original Recipe, Coa...</td>\n",
       "      <td>Baked Products</td>\n",
       "      <td>377.0 kcal</td>\n",
       "      <td>6.1 g</td>\n",
       "      <td>79.8 g</td>\n",
       "      <td>3.7 g</td>\n",
       "      <td>NaN</td>\n",
       "      <td>NaN</td>\n",
       "      <td>3.2 g</td>\n",
       "      <td>NaN</td>\n",
       "      <td>NaN</td>\n",
       "    </tr>\n",
       "    <tr>\n",
       "      <th>3</th>\n",
       "      <td>167515</td>\n",
       "      <td>George Weston Bakeries, Thomas English Muffins</td>\n",
       "      <td>Baked Products</td>\n",
       "      <td>232.0 kcal</td>\n",
       "      <td>8.0 g</td>\n",
       "      <td>46.0 g</td>\n",
       "      <td>1.8 g</td>\n",
       "      <td>NaN</td>\n",
       "      <td>NaN</td>\n",
       "      <td>42.6 g</td>\n",
       "      <td>NaN</td>\n",
       "      <td>NaN</td>\n",
       "    </tr>\n",
       "    <tr>\n",
       "      <th>4</th>\n",
       "      <td>167516</td>\n",
       "      <td>Waffles, buttermilk, frozen, ready-to-heat</td>\n",
       "      <td>Baked Products</td>\n",
       "      <td>273.0 kcal</td>\n",
       "      <td>6.58 g</td>\n",
       "      <td>41.05 g</td>\n",
       "      <td>9.22 g</td>\n",
       "      <td>15.0 mg</td>\n",
       "      <td>2.2 g</td>\n",
       "      <td>40.34 g</td>\n",
       "      <td>0.0 g</td>\n",
       "      <td>0.0 mg</td>\n",
       "    </tr>\n",
       "  </tbody>\n",
       "</table>\n",
       "</div>"
      ],
      "text/plain": [
       "   FDC_ID                                               Item        Category  \\\n",
       "0  167512  Pillsbury Golden Layer Buttermilk Biscuits, Ar...  Baked Products   \n",
       "1  167513  Pillsbury, Cinnamon Rolls with Icing, refriger...  Baked Products   \n",
       "2  167514  Kraft Foods, Shake N Bake Original Recipe, Coa...  Baked Products   \n",
       "3  167515     George Weston Bakeries, Thomas English Muffins  Baked Products   \n",
       "4  167516         Waffles, buttermilk, frozen, ready-to-heat  Baked Products   \n",
       "\n",
       "     Calories Protein Carbohydrate Total fat Cholesterol  Fiber    Water  \\\n",
       "0  307.0 kcal  5.88 g      41.18 g   13.24 g      0.0 mg  1.2 g   35.5 g   \n",
       "1  330.0 kcal  4.34 g      53.42 g   11.27 g      0.0 mg  1.4 g  27.86 g   \n",
       "2  377.0 kcal   6.1 g       79.8 g     3.7 g         NaN    NaN    3.2 g   \n",
       "3  232.0 kcal   8.0 g       46.0 g     1.8 g         NaN    NaN   42.6 g   \n",
       "4  273.0 kcal  6.58 g      41.05 g    9.22 g     15.0 mg  2.2 g  40.34 g   \n",
       "\n",
       "  Alcohol Vitamin C  \n",
       "0     NaN       NaN  \n",
       "1     NaN    0.1 mg  \n",
       "2     NaN       NaN  \n",
       "3     NaN       NaN  \n",
       "4   0.0 g    0.0 mg  "
      ]
     },
     "execution_count": 4,
     "metadata": {},
     "output_type": "execute_result"
    }
   ],
   "source": [
    "df_food = pd.read_csv('nutrition.csv')\n",
    "df_food.head()"
   ]
  },
  {
   "cell_type": "code",
   "execution_count": 5,
   "id": "387f2fd5-99b2-43df-9e9e-241119f50dce",
   "metadata": {
    "executionCancelledAt": null,
    "executionTime": 47,
    "lastExecutedAt": 1715243343383,
    "lastExecutedByKernel": "ca0ad6c6-0dd9-48e8-8124-171b9d3044ff",
    "lastScheduledRunId": null,
    "lastSuccessfullyExecutedCode": "# Database size\ndf_food.shape"
   },
   "outputs": [
    {
     "data": {
      "text/plain": [
       "(7793, 12)"
      ]
     },
     "execution_count": 5,
     "metadata": {},
     "output_type": "execute_result"
    }
   ],
   "source": [
    "# Database size\n",
    "df_food.shape"
   ]
  },
  {
   "cell_type": "code",
   "execution_count": 6,
   "id": "cea2456b-a0d3-463d-bbdb-713024351db3",
   "metadata": {
    "executionCancelledAt": null,
    "executionTime": 52,
    "lastExecutedAt": 1715243343435,
    "lastExecutedByKernel": "ca0ad6c6-0dd9-48e8-8124-171b9d3044ff",
    "lastScheduledRunId": null,
    "lastSuccessfullyExecutedCode": "# Number of columns, names and type\nfor index, (i, column_type) in enumerate(zip(df_food.columns, df_food.dtypes), start=1):\n    print(f\"{index}. column: {i} -- type: {column_type}\")",
    "outputsMetadata": {
     "0": {
      "height": 269,
      "type": "stream"
     }
    }
   },
   "outputs": [
    {
     "name": "stdout",
     "output_type": "stream",
     "text": [
      "1. column: FDC_ID -- type: int64\n",
      "2. column: Item -- type: object\n",
      "3. column: Category -- type: object\n",
      "4. column: Calories -- type: object\n",
      "5. column: Protein -- type: object\n",
      "6. column: Carbohydrate -- type: object\n",
      "7. column: Total fat -- type: object\n",
      "8. column: Cholesterol -- type: object\n",
      "9. column: Fiber -- type: object\n",
      "10. column: Water -- type: object\n",
      "11. column: Alcohol -- type: object\n",
      "12. column: Vitamin C -- type: object\n"
     ]
    }
   ],
   "source": [
    "# Number of columns, names and type\n",
    "for index, (i, column_type) in enumerate(zip(df_food.columns, df_food.dtypes), start=1):\n",
    "    print(f\"{index}. column: {i} -- type: {column_type}\")"
   ]
  },
  {
   "cell_type": "markdown",
   "id": "94663546-08af-44c3-a066-94efd57b37a3",
   "metadata": {},
   "source": [
    "Here, you can see that the columns corresponding to calories, macros, and other numerical characteristics of foods have units of measurements. For this reason, the data type is object.\n",
    "\n",
    "It's a good practice to store only the numbers and instead of units along with the data in the database."
   ]
  },
  {
   "cell_type": "code",
   "execution_count": 7,
   "id": "91dc3dd2-a07c-463a-9258-c367e1a8ed48",
   "metadata": {
    "executionCancelledAt": null,
    "executionTime": 78,
    "jupyter": {
     "outputs_hidden": false,
     "source_hidden": false
    },
    "lastExecutedAt": 1715243343513,
    "lastExecutedByKernel": "ca0ad6c6-0dd9-48e8-8124-171b9d3044ff",
    "lastScheduledRunId": null,
    "lastSuccessfullyExecutedCode": "# list of columns to change\ncolumns_with_units = [\"Calories\", \"Protein\", \"Carbohydrate\", \"Total fat\", \"Cholesterol\", \"Fiber\", \"Water\", \"Alcohol\", \"Vitamin C\"]\n\n# Function to drop units\ndef drop_units(value):\n    if isinstance(value, str):  # Check if value is a string\n        if \"kcal\" in value:\n            return float(value.split()[0].rstrip(\"kcal\"))\n        elif \"g\" in value:\n            return float(value.split()[0].rstrip(\"g\"))\n        elif \"mg\" in value:\n            return float(value.split()[0].rstrip(\"mg\"))\n    return None\n\n# Iterate over each column\nfor column in columns_with_units:\n    df_food[column] = df_food[column].apply(drop_units)\n        \n# Show database\ndf_food.head()",
    "outputsMetadata": {
     "0": {
      "height": 196,
      "type": "dataFrame"
     }
    }
   },
   "outputs": [
    {
     "data": {
      "text/html": [
       "<div>\n",
       "<style scoped>\n",
       "    .dataframe tbody tr th:only-of-type {\n",
       "        vertical-align: middle;\n",
       "    }\n",
       "\n",
       "    .dataframe tbody tr th {\n",
       "        vertical-align: top;\n",
       "    }\n",
       "\n",
       "    .dataframe thead th {\n",
       "        text-align: right;\n",
       "    }\n",
       "</style>\n",
       "<table border=\"1\" class=\"dataframe\">\n",
       "  <thead>\n",
       "    <tr style=\"text-align: right;\">\n",
       "      <th></th>\n",
       "      <th>FDC_ID</th>\n",
       "      <th>Item</th>\n",
       "      <th>Category</th>\n",
       "      <th>Calories</th>\n",
       "      <th>Protein</th>\n",
       "      <th>Carbohydrate</th>\n",
       "      <th>Total fat</th>\n",
       "      <th>Cholesterol</th>\n",
       "      <th>Fiber</th>\n",
       "      <th>Water</th>\n",
       "      <th>Alcohol</th>\n",
       "      <th>Vitamin C</th>\n",
       "    </tr>\n",
       "  </thead>\n",
       "  <tbody>\n",
       "    <tr>\n",
       "      <th>0</th>\n",
       "      <td>167512</td>\n",
       "      <td>Pillsbury Golden Layer Buttermilk Biscuits, Ar...</td>\n",
       "      <td>Baked Products</td>\n",
       "      <td>307.0</td>\n",
       "      <td>5.88</td>\n",
       "      <td>41.18</td>\n",
       "      <td>13.24</td>\n",
       "      <td>0.0</td>\n",
       "      <td>1.2</td>\n",
       "      <td>35.50</td>\n",
       "      <td>NaN</td>\n",
       "      <td>NaN</td>\n",
       "    </tr>\n",
       "    <tr>\n",
       "      <th>1</th>\n",
       "      <td>167513</td>\n",
       "      <td>Pillsbury, Cinnamon Rolls with Icing, refriger...</td>\n",
       "      <td>Baked Products</td>\n",
       "      <td>330.0</td>\n",
       "      <td>4.34</td>\n",
       "      <td>53.42</td>\n",
       "      <td>11.27</td>\n",
       "      <td>0.0</td>\n",
       "      <td>1.4</td>\n",
       "      <td>27.86</td>\n",
       "      <td>NaN</td>\n",
       "      <td>0.1</td>\n",
       "    </tr>\n",
       "    <tr>\n",
       "      <th>2</th>\n",
       "      <td>167514</td>\n",
       "      <td>Kraft Foods, Shake N Bake Original Recipe, Coa...</td>\n",
       "      <td>Baked Products</td>\n",
       "      <td>377.0</td>\n",
       "      <td>6.10</td>\n",
       "      <td>79.80</td>\n",
       "      <td>3.70</td>\n",
       "      <td>NaN</td>\n",
       "      <td>NaN</td>\n",
       "      <td>3.20</td>\n",
       "      <td>NaN</td>\n",
       "      <td>NaN</td>\n",
       "    </tr>\n",
       "    <tr>\n",
       "      <th>3</th>\n",
       "      <td>167515</td>\n",
       "      <td>George Weston Bakeries, Thomas English Muffins</td>\n",
       "      <td>Baked Products</td>\n",
       "      <td>232.0</td>\n",
       "      <td>8.00</td>\n",
       "      <td>46.00</td>\n",
       "      <td>1.80</td>\n",
       "      <td>NaN</td>\n",
       "      <td>NaN</td>\n",
       "      <td>42.60</td>\n",
       "      <td>NaN</td>\n",
       "      <td>NaN</td>\n",
       "    </tr>\n",
       "    <tr>\n",
       "      <th>4</th>\n",
       "      <td>167516</td>\n",
       "      <td>Waffles, buttermilk, frozen, ready-to-heat</td>\n",
       "      <td>Baked Products</td>\n",
       "      <td>273.0</td>\n",
       "      <td>6.58</td>\n",
       "      <td>41.05</td>\n",
       "      <td>9.22</td>\n",
       "      <td>15.0</td>\n",
       "      <td>2.2</td>\n",
       "      <td>40.34</td>\n",
       "      <td>0.0</td>\n",
       "      <td>0.0</td>\n",
       "    </tr>\n",
       "  </tbody>\n",
       "</table>\n",
       "</div>"
      ],
      "text/plain": [
       "   FDC_ID                                               Item        Category  \\\n",
       "0  167512  Pillsbury Golden Layer Buttermilk Biscuits, Ar...  Baked Products   \n",
       "1  167513  Pillsbury, Cinnamon Rolls with Icing, refriger...  Baked Products   \n",
       "2  167514  Kraft Foods, Shake N Bake Original Recipe, Coa...  Baked Products   \n",
       "3  167515     George Weston Bakeries, Thomas English Muffins  Baked Products   \n",
       "4  167516         Waffles, buttermilk, frozen, ready-to-heat  Baked Products   \n",
       "\n",
       "   Calories  Protein  Carbohydrate  Total fat  Cholesterol  Fiber  Water  \\\n",
       "0     307.0     5.88         41.18      13.24          0.0    1.2  35.50   \n",
       "1     330.0     4.34         53.42      11.27          0.0    1.4  27.86   \n",
       "2     377.0     6.10         79.80       3.70          NaN    NaN   3.20   \n",
       "3     232.0     8.00         46.00       1.80          NaN    NaN  42.60   \n",
       "4     273.0     6.58         41.05       9.22         15.0    2.2  40.34   \n",
       "\n",
       "   Alcohol  Vitamin C  \n",
       "0      NaN        NaN  \n",
       "1      NaN        0.1  \n",
       "2      NaN        NaN  \n",
       "3      NaN        NaN  \n",
       "4      0.0        0.0  "
      ]
     },
     "execution_count": 7,
     "metadata": {},
     "output_type": "execute_result"
    }
   ],
   "source": [
    "# list of columns to change\n",
    "columns_with_units = [\"Calories\", \"Protein\", \"Carbohydrate\", \"Total fat\", \"Cholesterol\", \"Fiber\", \"Water\", \"Alcohol\", \"Vitamin C\"]\n",
    "\n",
    "# Function to drop units\n",
    "def drop_units(value):\n",
    "    if isinstance(value, str):  # Check if value is a string\n",
    "        if \"kcal\" in value:\n",
    "            return float(value.split()[0].rstrip(\"kcal\"))\n",
    "        elif \"g\" in value:\n",
    "            return float(value.split()[0].rstrip(\"g\"))\n",
    "        elif \"mg\" in value:\n",
    "            return float(value.split()[0].rstrip(\"mg\"))\n",
    "    return None\n",
    "\n",
    "# Iterate over each column\n",
    "for column in columns_with_units:\n",
    "    df_food[column] = df_food[column].apply(drop_units)\n",
    "        \n",
    "# Show database\n",
    "df_food.head()"
   ]
  },
  {
   "cell_type": "code",
   "execution_count": 8,
   "id": "11327587-b590-4fdc-a7b6-5b38eef41271",
   "metadata": {
    "executionCancelledAt": null,
    "executionTime": 55,
    "lastExecutedAt": 1715243343568,
    "lastExecutedByKernel": "ca0ad6c6-0dd9-48e8-8124-171b9d3044ff",
    "lastScheduledRunId": null,
    "lastSuccessfullyExecutedCode": "# Check null values\n\nnull_values = df_food.isnull().sum()\nprint(\"Columns with null values: \\n\", null_values[null_values > 0])",
    "outputsMetadata": {
     "0": {
      "height": 143,
      "type": "stream"
     }
    }
   },
   "outputs": [
    {
     "name": "stdout",
     "output_type": "stream",
     "text": [
      "Columns with null values: \n",
      " Cholesterol     399\n",
      "Fiber           562\n",
      "Alcohol        2394\n",
      "Vitamin C       461\n",
      "dtype: int64\n"
     ]
    }
   ],
   "source": [
    "# Check null values\n",
    "\n",
    "null_values = df_food.isnull().sum()\n",
    "print(\"Columns with null values: \\n\", null_values[null_values > 0])"
   ]
  },
  {
   "cell_type": "code",
   "execution_count": 9,
   "id": "90c19001-c7bc-4501-b444-fb0b71277476",
   "metadata": {
    "executionCancelledAt": null,
    "executionTime": 52,
    "lastExecutedAt": 1715243343620,
    "lastExecutedByKernel": "ca0ad6c6-0dd9-48e8-8124-171b9d3044ff",
    "lastScheduledRunId": null,
    "lastSuccessfullyExecutedCode": "# Replace null values with 0 instead of deleting rows to avoid losing data\ndf_food_nutrition = df_food.fillna(0)\ndf_food_nutrition.head()",
    "outputsMetadata": {
     "0": {
      "height": 196,
      "type": "dataFrame"
     }
    }
   },
   "outputs": [
    {
     "data": {
      "text/html": [
       "<div>\n",
       "<style scoped>\n",
       "    .dataframe tbody tr th:only-of-type {\n",
       "        vertical-align: middle;\n",
       "    }\n",
       "\n",
       "    .dataframe tbody tr th {\n",
       "        vertical-align: top;\n",
       "    }\n",
       "\n",
       "    .dataframe thead th {\n",
       "        text-align: right;\n",
       "    }\n",
       "</style>\n",
       "<table border=\"1\" class=\"dataframe\">\n",
       "  <thead>\n",
       "    <tr style=\"text-align: right;\">\n",
       "      <th></th>\n",
       "      <th>FDC_ID</th>\n",
       "      <th>Item</th>\n",
       "      <th>Category</th>\n",
       "      <th>Calories</th>\n",
       "      <th>Protein</th>\n",
       "      <th>Carbohydrate</th>\n",
       "      <th>Total fat</th>\n",
       "      <th>Cholesterol</th>\n",
       "      <th>Fiber</th>\n",
       "      <th>Water</th>\n",
       "      <th>Alcohol</th>\n",
       "      <th>Vitamin C</th>\n",
       "    </tr>\n",
       "  </thead>\n",
       "  <tbody>\n",
       "    <tr>\n",
       "      <th>0</th>\n",
       "      <td>167512</td>\n",
       "      <td>Pillsbury Golden Layer Buttermilk Biscuits, Ar...</td>\n",
       "      <td>Baked Products</td>\n",
       "      <td>307.0</td>\n",
       "      <td>5.88</td>\n",
       "      <td>41.18</td>\n",
       "      <td>13.24</td>\n",
       "      <td>0.0</td>\n",
       "      <td>1.2</td>\n",
       "      <td>35.50</td>\n",
       "      <td>0.0</td>\n",
       "      <td>0.0</td>\n",
       "    </tr>\n",
       "    <tr>\n",
       "      <th>1</th>\n",
       "      <td>167513</td>\n",
       "      <td>Pillsbury, Cinnamon Rolls with Icing, refriger...</td>\n",
       "      <td>Baked Products</td>\n",
       "      <td>330.0</td>\n",
       "      <td>4.34</td>\n",
       "      <td>53.42</td>\n",
       "      <td>11.27</td>\n",
       "      <td>0.0</td>\n",
       "      <td>1.4</td>\n",
       "      <td>27.86</td>\n",
       "      <td>0.0</td>\n",
       "      <td>0.1</td>\n",
       "    </tr>\n",
       "    <tr>\n",
       "      <th>2</th>\n",
       "      <td>167514</td>\n",
       "      <td>Kraft Foods, Shake N Bake Original Recipe, Coa...</td>\n",
       "      <td>Baked Products</td>\n",
       "      <td>377.0</td>\n",
       "      <td>6.10</td>\n",
       "      <td>79.80</td>\n",
       "      <td>3.70</td>\n",
       "      <td>0.0</td>\n",
       "      <td>0.0</td>\n",
       "      <td>3.20</td>\n",
       "      <td>0.0</td>\n",
       "      <td>0.0</td>\n",
       "    </tr>\n",
       "    <tr>\n",
       "      <th>3</th>\n",
       "      <td>167515</td>\n",
       "      <td>George Weston Bakeries, Thomas English Muffins</td>\n",
       "      <td>Baked Products</td>\n",
       "      <td>232.0</td>\n",
       "      <td>8.00</td>\n",
       "      <td>46.00</td>\n",
       "      <td>1.80</td>\n",
       "      <td>0.0</td>\n",
       "      <td>0.0</td>\n",
       "      <td>42.60</td>\n",
       "      <td>0.0</td>\n",
       "      <td>0.0</td>\n",
       "    </tr>\n",
       "    <tr>\n",
       "      <th>4</th>\n",
       "      <td>167516</td>\n",
       "      <td>Waffles, buttermilk, frozen, ready-to-heat</td>\n",
       "      <td>Baked Products</td>\n",
       "      <td>273.0</td>\n",
       "      <td>6.58</td>\n",
       "      <td>41.05</td>\n",
       "      <td>9.22</td>\n",
       "      <td>15.0</td>\n",
       "      <td>2.2</td>\n",
       "      <td>40.34</td>\n",
       "      <td>0.0</td>\n",
       "      <td>0.0</td>\n",
       "    </tr>\n",
       "  </tbody>\n",
       "</table>\n",
       "</div>"
      ],
      "text/plain": [
       "   FDC_ID                                               Item        Category  \\\n",
       "0  167512  Pillsbury Golden Layer Buttermilk Biscuits, Ar...  Baked Products   \n",
       "1  167513  Pillsbury, Cinnamon Rolls with Icing, refriger...  Baked Products   \n",
       "2  167514  Kraft Foods, Shake N Bake Original Recipe, Coa...  Baked Products   \n",
       "3  167515     George Weston Bakeries, Thomas English Muffins  Baked Products   \n",
       "4  167516         Waffles, buttermilk, frozen, ready-to-heat  Baked Products   \n",
       "\n",
       "   Calories  Protein  Carbohydrate  Total fat  Cholesterol  Fiber  Water  \\\n",
       "0     307.0     5.88         41.18      13.24          0.0    1.2  35.50   \n",
       "1     330.0     4.34         53.42      11.27          0.0    1.4  27.86   \n",
       "2     377.0     6.10         79.80       3.70          0.0    0.0   3.20   \n",
       "3     232.0     8.00         46.00       1.80          0.0    0.0  42.60   \n",
       "4     273.0     6.58         41.05       9.22         15.0    2.2  40.34   \n",
       "\n",
       "   Alcohol  Vitamin C  \n",
       "0      0.0        0.0  \n",
       "1      0.0        0.1  \n",
       "2      0.0        0.0  \n",
       "3      0.0        0.0  \n",
       "4      0.0        0.0  "
      ]
     },
     "execution_count": 9,
     "metadata": {},
     "output_type": "execute_result"
    }
   ],
   "source": [
    "# Replace null values with 0 instead of deleting rows to avoid losing data\n",
    "df_food_nutrition = df_food.fillna(0)\n",
    "df_food_nutrition.head()"
   ]
  },
  {
   "cell_type": "code",
   "execution_count": 10,
   "id": "d8972060-df62-4527-be95-f1a6bc8862b5",
   "metadata": {
    "executionCancelledAt": null,
    "executionTime": 74,
    "lastExecutedAt": 1715243343694,
    "lastExecutedByKernel": "ca0ad6c6-0dd9-48e8-8124-171b9d3044ff",
    "lastScheduledRunId": null,
    "lastSuccessfullyExecutedCode": "# Averages food\n\ndf_food_nutrition.mean()",
    "outputsMetadata": {
     "0": {
      "height": 321,
      "type": "dataFrame"
     }
    }
   },
   "outputs": [
    {
     "name": "stderr",
     "output_type": "stream",
     "text": [
      "C:\\Users\\mroja\\AppData\\Local\\Temp/ipykernel_3212/2027743720.py:3: FutureWarning: Dropping of nuisance columns in DataFrame reductions (with 'numeric_only=None') is deprecated; in a future version this will raise TypeError.  Select only valid columns before calling the reduction.\n",
      "  df_food_nutrition.mean()\n"
     ]
    },
    {
     "data": {
      "text/plain": [
       "FDC_ID          171408.000000\n",
       "Calories           220.243118\n",
       "Protein             11.926873\n",
       "Carbohydrate        19.569788\n",
       "Total fat           10.687361\n",
       "Cholesterol         42.738997\n",
       "Fiber                1.836392\n",
       "Water               56.033466\n",
       "Alcohol              0.127679\n",
       "Vitamin C            8.444604\n",
       "dtype: float64"
      ]
     },
     "execution_count": 10,
     "metadata": {},
     "output_type": "execute_result"
    }
   ],
   "source": [
    "# Averages food\n",
    "\n",
    "df_food_nutrition.mean()"
   ]
  },
  {
   "cell_type": "markdown",
   "id": "c942cc15-ee75-42fc-8739-90941a95bce7",
   "metadata": {},
   "source": [
    "## 💡 Which fruit has the highest vitamin C content? What are some other sources of vitamin C?"
   ]
  },
  {
   "cell_type": "code",
   "execution_count": 11,
   "id": "633f489b-07fc-4309-937d-5d8c1ef1c1ee",
   "metadata": {
    "executionCancelledAt": null,
    "executionTime": 56,
    "lastExecutedAt": 1715243343915,
    "lastExecutedByKernel": "ca0ad6c6-0dd9-48e8-8124-171b9d3044ff",
    "lastScheduledRunId": null,
    "lastSuccessfullyExecutedCode": "# Here, I can see all categories of foods in the database\ncategories_food = df_food_nutrition[\"Category\"].unique()"
   },
   "outputs": [],
   "source": [
    "# Here, I can see all categories of foods in the database\n",
    "categories_food = df_food_nutrition[\"Category\"].unique()"
   ]
  },
  {
   "cell_type": "code",
   "execution_count": 12,
   "id": "97dbaf4d-ee03-452b-9c8f-3b1ddc1a7152",
   "metadata": {
    "executionCancelledAt": null,
    "executionTime": 52,
    "lastExecutedAt": 1715243343967,
    "lastExecutedByKernel": "ca0ad6c6-0dd9-48e8-8124-171b9d3044ff",
    "lastScheduledRunId": null,
    "lastSuccessfullyExecutedCode": "print(categories_food)",
    "outputsMetadata": {
     "0": {
      "height": 206,
      "type": "stream"
     }
    }
   },
   "outputs": [
    {
     "name": "stdout",
     "output_type": "stream",
     "text": [
      "['Baked Products' 'Snacks' 'Sweets' 'Vegetables and Vegetable Products'\n",
      " 'American Indian/Alaska Native Foods' 'Restaurant Foods' 'Beverages'\n",
      " 'Fats and Oils' 'Sausages and Luncheon Meats' 'Dairy and Egg Products'\n",
      " 'Baby Foods' 'Poultry Products' 'Pork Products' 'Breakfast Cereals'\n",
      " 'Legumes and Legume Products' 'Finfish and Shellfish Products'\n",
      " 'Fruits and Fruit Juices' 'Cereal Grains and Pasta'\n",
      " 'Nut and Seed Products' 'Beef Products' 'Meals, Entrees, and Side Dishes'\n",
      " 'Fast Foods' 'Spices and Herbs' 'Soups, Sauces, and Gravies'\n",
      " 'Lamb, Veal, and Game Products']\n"
     ]
    }
   ],
   "source": [
    "print(categories_food)"
   ]
  },
  {
   "cell_type": "code",
   "execution_count": 15,
   "id": "2be78d8e-cf45-4495-8e4c-381805635f70",
   "metadata": {
    "executionCancelledAt": null,
    "executionTime": 52,
    "lastExecutedAt": 1715243344019,
    "lastExecutedByKernel": "ca0ad6c6-0dd9-48e8-8124-171b9d3044ff",
    "lastScheduledRunId": null,
    "lastSuccessfullyExecutedCode": "#Filter the data by \"Fruits\"\nfruits = df_food_nutrition[df_food_nutrition[\"Category\"].str.contains(\"Fruits\")]\n\n# Sort the filtered data\nfruits_vit_c = fruits.sort_values(by = \"Vitamin C\", ascending = False)",
    "outputsMetadata": {
     "0": {
      "height": 311,
      "type": "stream"
     }
    }
   },
   "outputs": [],
   "source": [
    "#Filter the data by \"Fruits\"\n",
    "fruits = df_food_nutrition[df_food_nutrition[\"Category\"].str.contains(\"Fruits\")]\n",
    "\n",
    "# Sort the filtered data\n",
    "fruits_vit_c = fruits[[\"FDC_ID\", \"Item\", \"Category\", \"Vitamin C\"]].sort_values(by = \"Vitamin C\", ascending = False)"
   ]
  },
  {
   "cell_type": "code",
   "execution_count": 17,
   "id": "5c49ea0a-4c87-4bde-9551-393a02b80f98",
   "metadata": {
    "executionCancelledAt": null,
    "executionTime": 53,
    "lastExecutedAt": 1715243344072,
    "lastExecutedByKernel": "ca0ad6c6-0dd9-48e8-8124-171b9d3044ff",
    "lastScheduledRunId": null,
    "lastSuccessfullyExecutedCode": "fruits_vit_c",
    "outputsMetadata": {
     "0": {
      "height": 321,
      "type": "dataFrame"
     }
    }
   },
   "outputs": [
    {
     "data": {
      "text/html": [
       "<div>\n",
       "<style scoped>\n",
       "    .dataframe tbody tr th:only-of-type {\n",
       "        vertical-align: middle;\n",
       "    }\n",
       "\n",
       "    .dataframe tbody tr th {\n",
       "        vertical-align: top;\n",
       "    }\n",
       "\n",
       "    .dataframe thead th {\n",
       "        text-align: right;\n",
       "    }\n",
       "</style>\n",
       "<table border=\"1\" class=\"dataframe\">\n",
       "  <thead>\n",
       "    <tr style=\"text-align: right;\">\n",
       "      <th></th>\n",
       "      <th>FDC_ID</th>\n",
       "      <th>Item</th>\n",
       "      <th>Category</th>\n",
       "      <th>Vitamin C</th>\n",
       "    </tr>\n",
       "  </thead>\n",
       "  <tbody>\n",
       "    <tr>\n",
       "      <th>5220</th>\n",
       "      <td>171686</td>\n",
       "      <td>Acerola, (west indian cherry), raw</td>\n",
       "      <td>Fruits and Fruit Juices</td>\n",
       "      <td>1677.6</td>\n",
       "    </tr>\n",
       "    <tr>\n",
       "      <th>5221</th>\n",
       "      <td>171687</td>\n",
       "      <td>Acerola juice, raw</td>\n",
       "      <td>Fruits and Fruit Juices</td>\n",
       "      <td>1600.0</td>\n",
       "    </tr>\n",
       "    <tr>\n",
       "      <th>5285</th>\n",
       "      <td>173044</td>\n",
       "      <td>Guavas, common, raw</td>\n",
       "      <td>Fruits and Fruit Juices</td>\n",
       "      <td>228.3</td>\n",
       "    </tr>\n",
       "    <tr>\n",
       "      <th>5059</th>\n",
       "      <td>168152</td>\n",
       "      <td>Jujube, Chinese, fresh, dried</td>\n",
       "      <td>Fruits and Fruit Juices</td>\n",
       "      <td>217.6</td>\n",
       "    </tr>\n",
       "    <tr>\n",
       "      <th>5126</th>\n",
       "      <td>169087</td>\n",
       "      <td>Litchis, dried</td>\n",
       "      <td>Fruits and Fruit Juices</td>\n",
       "      <td>183.0</td>\n",
       "    </tr>\n",
       "    <tr>\n",
       "      <th>...</th>\n",
       "      <td>...</td>\n",
       "      <td>...</td>\n",
       "      <td>...</td>\n",
       "      <td>...</td>\n",
       "    </tr>\n",
       "    <tr>\n",
       "      <th>5068</th>\n",
       "      <td>168161</td>\n",
       "      <td>Prunes, dehydrated (low-moisture), stewed</td>\n",
       "      <td>Fruits and Fruit Juices</td>\n",
       "      <td>0.0</td>\n",
       "    </tr>\n",
       "    <tr>\n",
       "      <th>5067</th>\n",
       "      <td>168160</td>\n",
       "      <td>Prunes, dehydrated (low-moisture), uncooked</td>\n",
       "      <td>Fruits and Fruit Juices</td>\n",
       "      <td>0.0</td>\n",
       "    </tr>\n",
       "    <tr>\n",
       "      <th>5098</th>\n",
       "      <td>168191</td>\n",
       "      <td>Dates, medjool</td>\n",
       "      <td>Fruits and Fruit Juices</td>\n",
       "      <td>0.0</td>\n",
       "    </tr>\n",
       "    <tr>\n",
       "      <th>5135</th>\n",
       "      <td>169096</td>\n",
       "      <td>Olives, pickled, canned or bottled, green</td>\n",
       "      <td>Fruits and Fruit Juices</td>\n",
       "      <td>0.0</td>\n",
       "    </tr>\n",
       "    <tr>\n",
       "      <th>5012</th>\n",
       "      <td>167766</td>\n",
       "      <td>Maraschino cherries, canned, drained</td>\n",
       "      <td>Fruits and Fruit Juices</td>\n",
       "      <td>0.0</td>\n",
       "    </tr>\n",
       "  </tbody>\n",
       "</table>\n",
       "<p>355 rows × 4 columns</p>\n",
       "</div>"
      ],
      "text/plain": [
       "      FDC_ID                                         Item  \\\n",
       "5220  171686           Acerola, (west indian cherry), raw   \n",
       "5221  171687                           Acerola juice, raw   \n",
       "5285  173044                          Guavas, common, raw   \n",
       "5059  168152                Jujube, Chinese, fresh, dried   \n",
       "5126  169087                               Litchis, dried   \n",
       "...      ...                                          ...   \n",
       "5068  168161    Prunes, dehydrated (low-moisture), stewed   \n",
       "5067  168160  Prunes, dehydrated (low-moisture), uncooked   \n",
       "5098  168191                               Dates, medjool   \n",
       "5135  169096    Olives, pickled, canned or bottled, green   \n",
       "5012  167766         Maraschino cherries, canned, drained   \n",
       "\n",
       "                     Category  Vitamin C  \n",
       "5220  Fruits and Fruit Juices     1677.6  \n",
       "5221  Fruits and Fruit Juices     1600.0  \n",
       "5285  Fruits and Fruit Juices      228.3  \n",
       "5059  Fruits and Fruit Juices      217.6  \n",
       "5126  Fruits and Fruit Juices      183.0  \n",
       "...                       ...        ...  \n",
       "5068  Fruits and Fruit Juices        0.0  \n",
       "5067  Fruits and Fruit Juices        0.0  \n",
       "5098  Fruits and Fruit Juices        0.0  \n",
       "5135  Fruits and Fruit Juices        0.0  \n",
       "5012  Fruits and Fruit Juices        0.0  \n",
       "\n",
       "[355 rows x 4 columns]"
      ]
     },
     "execution_count": 17,
     "metadata": {},
     "output_type": "execute_result"
    }
   ],
   "source": [
    "fruits_vit_c"
   ]
  },
  {
   "cell_type": "code",
   "execution_count": 18,
   "id": "b9c9b9f8-effa-4ee4-a7a8-4e3fd5164d3c",
   "metadata": {
    "executionCancelledAt": null,
    "executionTime": 97,
    "lastExecutedAt": 1715243344169,
    "lastExecutedByKernel": "ca0ad6c6-0dd9-48e8-8124-171b9d3044ff",
    "lastScheduledRunId": null,
    "lastSuccessfullyExecutedCode": "# Other sources of Vitamin C\nall_food_vit_c = df_food_nutrition[[\"FDC_ID\", \"Item\", \"Category\", \"Vitamin C\"]]\n\nall_food_vit_c.sort_values(by = \"Vitamin C\", ascending = False)",
    "outputsMetadata": {
     "0": {
      "height": 321,
      "type": "dataFrame"
     }
    }
   },
   "outputs": [
    {
     "data": {
      "text/html": [
       "<div>\n",
       "<style scoped>\n",
       "    .dataframe tbody tr th:only-of-type {\n",
       "        vertical-align: middle;\n",
       "    }\n",
       "\n",
       "    .dataframe tbody tr th {\n",
       "        vertical-align: top;\n",
       "    }\n",
       "\n",
       "    .dataframe thead th {\n",
       "        text-align: right;\n",
       "    }\n",
       "</style>\n",
       "<table border=\"1\" class=\"dataframe\">\n",
       "  <thead>\n",
       "    <tr style=\"text-align: right;\">\n",
       "      <th></th>\n",
       "      <th>FDC_ID</th>\n",
       "      <th>Item</th>\n",
       "      <th>Category</th>\n",
       "      <th>Vitamin C</th>\n",
       "    </tr>\n",
       "  </thead>\n",
       "  <tbody>\n",
       "    <tr>\n",
       "      <th>3449</th>\n",
       "      <td>173487</td>\n",
       "      <td>Babyfood, GERBER, 2nd Foods, apple, carrot and...</td>\n",
       "      <td>Baby Foods</td>\n",
       "      <td>2732.0</td>\n",
       "    </tr>\n",
       "    <tr>\n",
       "      <th>2140</th>\n",
       "      <td>167707</td>\n",
       "      <td>Beverages, fruit-flavored drink, powder, with ...</td>\n",
       "      <td>Beverages</td>\n",
       "      <td>2400.0</td>\n",
       "    </tr>\n",
       "    <tr>\n",
       "      <th>2316</th>\n",
       "      <td>173237</td>\n",
       "      <td>Beverages, Orange-flavor drink, breakfast type...</td>\n",
       "      <td>Beverages</td>\n",
       "      <td>2400.0</td>\n",
       "    </tr>\n",
       "    <tr>\n",
       "      <th>1454</th>\n",
       "      <td>169373</td>\n",
       "      <td>Peppers, sweet, red, freeze-dried</td>\n",
       "      <td>Vegetables and Vegetable Products</td>\n",
       "      <td>1900.0</td>\n",
       "    </tr>\n",
       "    <tr>\n",
       "      <th>5220</th>\n",
       "      <td>171686</td>\n",
       "      <td>Acerola, (west indian cherry), raw</td>\n",
       "      <td>Fruits and Fruit Juices</td>\n",
       "      <td>1677.6</td>\n",
       "    </tr>\n",
       "    <tr>\n",
       "      <th>...</th>\n",
       "      <td>...</td>\n",
       "      <td>...</td>\n",
       "      <td>...</td>\n",
       "      <td>...</td>\n",
       "    </tr>\n",
       "    <tr>\n",
       "      <th>3766</th>\n",
       "      <td>172831</td>\n",
       "      <td>Ruffed Grouse, breast meat, skinless, raw</td>\n",
       "      <td>Poultry Products</td>\n",
       "      <td>0.0</td>\n",
       "    </tr>\n",
       "    <tr>\n",
       "      <th>3765</th>\n",
       "      <td>172830</td>\n",
       "      <td>Chicken, broiler, rotisserie, BBQ, wing, meat ...</td>\n",
       "      <td>Poultry Products</td>\n",
       "      <td>0.0</td>\n",
       "    </tr>\n",
       "    <tr>\n",
       "      <th>3758</th>\n",
       "      <td>172414</td>\n",
       "      <td>Goose, domesticated, meat only, cooked, roasted</td>\n",
       "      <td>Poultry Products</td>\n",
       "      <td>0.0</td>\n",
       "    </tr>\n",
       "    <tr>\n",
       "      <th>3756</th>\n",
       "      <td>172412</td>\n",
       "      <td>Goose, domesticated, meat and skin, cooked, ro...</td>\n",
       "      <td>Poultry Products</td>\n",
       "      <td>0.0</td>\n",
       "    </tr>\n",
       "    <tr>\n",
       "      <th>7792</th>\n",
       "      <td>175304</td>\n",
       "      <td>Game meat, goat, cooked, roasted</td>\n",
       "      <td>Lamb, Veal, and Game Products</td>\n",
       "      <td>0.0</td>\n",
       "    </tr>\n",
       "  </tbody>\n",
       "</table>\n",
       "<p>7793 rows × 4 columns</p>\n",
       "</div>"
      ],
      "text/plain": [
       "      FDC_ID                                               Item  \\\n",
       "3449  173487  Babyfood, GERBER, 2nd Foods, apple, carrot and...   \n",
       "2140  167707  Beverages, fruit-flavored drink, powder, with ...   \n",
       "2316  173237  Beverages, Orange-flavor drink, breakfast type...   \n",
       "1454  169373                  Peppers, sweet, red, freeze-dried   \n",
       "5220  171686                 Acerola, (west indian cherry), raw   \n",
       "...      ...                                                ...   \n",
       "3766  172831          Ruffed Grouse, breast meat, skinless, raw   \n",
       "3765  172830  Chicken, broiler, rotisserie, BBQ, wing, meat ...   \n",
       "3758  172414    Goose, domesticated, meat only, cooked, roasted   \n",
       "3756  172412  Goose, domesticated, meat and skin, cooked, ro...   \n",
       "7792  175304                   Game meat, goat, cooked, roasted   \n",
       "\n",
       "                               Category  Vitamin C  \n",
       "3449                         Baby Foods     2732.0  \n",
       "2140                          Beverages     2400.0  \n",
       "2316                          Beverages     2400.0  \n",
       "1454  Vegetables and Vegetable Products     1900.0  \n",
       "5220            Fruits and Fruit Juices     1677.6  \n",
       "...                                 ...        ...  \n",
       "3766                   Poultry Products        0.0  \n",
       "3765                   Poultry Products        0.0  \n",
       "3758                   Poultry Products        0.0  \n",
       "3756                   Poultry Products        0.0  \n",
       "7792      Lamb, Veal, and Game Products        0.0  \n",
       "\n",
       "[7793 rows x 4 columns]"
      ]
     },
     "execution_count": 18,
     "metadata": {},
     "output_type": "execute_result"
    }
   ],
   "source": [
    "# Other sources of Vitamin C\n",
    "all_food_vit_c = df_food_nutrition[[\"FDC_ID\", \"Item\", \"Category\", \"Vitamin C\"]]\n",
    "\n",
    "all_food_vit_c.sort_values(by = \"Vitamin C\", ascending = False)"
   ]
  },
  {
   "cell_type": "markdown",
   "id": "0a5bd926-d9f6-4a78-b5cf-00776b9f625e",
   "metadata": {},
   "source": [
    "As we can see in the query, the fruit with most vitamin C is Acerola.\n",
    "\n",
    "![image2](image2.jpeg)\n"
   ]
  },
  {
   "cell_type": "markdown",
   "id": "63c9b842-ccbc-4150-8a87-bedeb854dd90",
   "metadata": {},
   "source": [
    "## 💡 Describe the relationship between the calories and water content of a food item."
   ]
  },
  {
   "cell_type": "code",
   "execution_count": 19,
   "id": "94a5319c-7fe8-4dee-81de-cde8386f4cc7",
   "metadata": {
    "executionCancelledAt": null,
    "executionTime": 54,
    "lastExecutedAt": 1715243344223,
    "lastExecutedByKernel": "ca0ad6c6-0dd9-48e8-8124-171b9d3044ff",
    "lastScheduledRunId": null,
    "lastSuccessfullyExecutedCode": "# Calculate the Pearson correlation coefficient\ncoef_corr = df_food_nutrition[\"Water\"].corr(df_food_nutrition[\"Calories\"])\nprint(f\"The Pearson correlation coefficient is: {coef_corr}\")",
    "outputsMetadata": {
     "0": {
      "height": 38,
      "type": "stream"
     }
    }
   },
   "outputs": [
    {
     "name": "stdout",
     "output_type": "stream",
     "text": [
      "The Pearson correlation coefficient is: -0.8954571656706265\n"
     ]
    }
   ],
   "source": [
    "# Calculate the Pearson correlation coefficient\n",
    "coef_corr = df_food_nutrition[\"Water\"].corr(df_food_nutrition[\"Calories\"])\n",
    "print(f\"The Pearson correlation coefficient is: {coef_corr}\")"
   ]
  },
  {
   "cell_type": "code",
   "execution_count": 20,
   "id": "420351dd-a0af-46a4-9ccd-8b10ca13ce5d",
   "metadata": {
    "executionCancelledAt": null,
    "executionTime": 742,
    "lastExecutedAt": 1715243344965,
    "lastExecutedByKernel": "ca0ad6c6-0dd9-48e8-8124-171b9d3044ff",
    "lastScheduledRunId": null,
    "lastSuccessfullyExecutedCode": "# Scatter plot\nsns.scatterplot(x='Calories', y='Water', data=df_food_nutrition)\n\n# Add the linear regression line\nsns.regplot(x='Calories', y='Water', data=df_food_nutrition, scatter=False, color='yellow')\n\n# Add title and labels\nplt.xlabel('Calories (in kcal)')\nplt.ylabel('Water (in g)')\nplt.title('Relationship between calories and water')\n\n# Show the plot\nplt.show()"
   },
   "outputs": [
    {
     "data": {
      "image/png": "[encoded data removed]",
      "text/plain": [
       "<Figure size 432x288 with 1 Axes>"
      ]
     },
     "metadata": {},
     "output_type": "display_data"
    }
   ],
   "source": [
    "# Scatter plot\n",
    "sns.scatterplot(x='Calories', y='Water', data=df_food_nutrition)\n",
    "\n",
    "# Add the linear regression line\n",
    "sns.regplot(x='Calories', y='Water', data=df_food_nutrition, scatter=False, color='yellow')\n",
    "\n",
    "# Add title and labels\n",
    "plt.xlabel('Calories (in kcal)')\n",
    "plt.ylabel('Water (in g)')\n",
    "plt.title('Relationship between calories and water')\n",
    "\n",
    "# Show the plot\n",
    "plt.show()"
   ]
  },
  {
   "cell_type": "markdown",
   "id": "e99daf3b-952d-436c-b431-802640761f83",
   "metadata": {},
   "source": [
    "According to the Pearson correlation coeficient (-0.895) and the scatter plot, the relationship between calories and water is **negative**. It means that when a food has more content of water, the content of calories is lower and it happens because water is thermodynamically very stable.\n",
    "\n",
    "![image3](image3.png)\n"
   ]
  },
  {
   "cell_type": "markdown",
   "id": "292f2eb2-fc5c-4270-9bd4-b85c93f3e9ab",
   "metadata": {},
   "source": [
    "## 💡 What are the possible drawbacks of a zero-carb diet? What could be the drawbacks of a very high-protein diet?"
   ]
  },
  {
   "cell_type": "markdown",
   "id": "a2f1a970-1cf0-42e7-a27f-6b3d99371b12",
   "metadata": {},
   "source": [
    "### 1️⃣ Zero-carb diet: "
   ]
  },
  {
   "cell_type": "code",
   "execution_count": 21,
   "id": "73e92170-d697-4547-b648-b26cfebedb92",
   "metadata": {
    "executionCancelledAt": null,
    "executionTime": 86,
    "lastExecutedAt": 1715243345051,
    "lastExecutedByKernel": "ca0ad6c6-0dd9-48e8-8124-171b9d3044ff",
    "lastScheduledRunId": null,
    "lastSuccessfullyExecutedCode": "zero_carb = df_food_nutrition[df_food_nutrition[\"Carbohydrate\"] == 0]\n\nzero_carb",
    "outputsMetadata": {
     "0": {
      "height": 321,
      "type": "dataFrame"
     }
    }
   },
   "outputs": [
    {
     "data": {
      "text/html": [
       "<div>\n",
       "<style scoped>\n",
       "    .dataframe tbody tr th:only-of-type {\n",
       "        vertical-align: middle;\n",
       "    }\n",
       "\n",
       "    .dataframe tbody tr th {\n",
       "        vertical-align: top;\n",
       "    }\n",
       "\n",
       "    .dataframe thead th {\n",
       "        text-align: right;\n",
       "    }\n",
       "</style>\n",
       "<table border=\"1\" class=\"dataframe\">\n",
       "  <thead>\n",
       "    <tr style=\"text-align: right;\">\n",
       "      <th></th>\n",
       "      <th>FDC_ID</th>\n",
       "      <th>Item</th>\n",
       "      <th>Category</th>\n",
       "      <th>Calories</th>\n",
       "      <th>Protein</th>\n",
       "      <th>Carbohydrate</th>\n",
       "      <th>Total fat</th>\n",
       "      <th>Cholesterol</th>\n",
       "      <th>Fiber</th>\n",
       "      <th>Water</th>\n",
       "      <th>Alcohol</th>\n",
       "      <th>Vitamin C</th>\n",
       "    </tr>\n",
       "  </thead>\n",
       "  <tbody>\n",
       "    <tr>\n",
       "      <th>472</th>\n",
       "      <td>175040</td>\n",
       "      <td>Leavening agents, baking soda</td>\n",
       "      <td>Baked Products</td>\n",
       "      <td>0.0</td>\n",
       "      <td>0.00</td>\n",
       "      <td>0.0</td>\n",
       "      <td>0.00</td>\n",
       "      <td>0.0</td>\n",
       "      <td>0.0</td>\n",
       "      <td>0.20</td>\n",
       "      <td>0.0</td>\n",
       "      <td>0.0</td>\n",
       "    </tr>\n",
       "    <tr>\n",
       "      <th>551</th>\n",
       "      <td>167961</td>\n",
       "      <td>Snacks, pork skins, plain</td>\n",
       "      <td>Snacks</td>\n",
       "      <td>544.0</td>\n",
       "      <td>61.30</td>\n",
       "      <td>0.0</td>\n",
       "      <td>31.30</td>\n",
       "      <td>95.0</td>\n",
       "      <td>0.0</td>\n",
       "      <td>1.80</td>\n",
       "      <td>0.0</td>\n",
       "      <td>0.5</td>\n",
       "    </tr>\n",
       "    <tr>\n",
       "      <th>910</th>\n",
       "      <td>169599</td>\n",
       "      <td>Gelatins, dry powder, unsweetened</td>\n",
       "      <td>Sweets</td>\n",
       "      <td>335.0</td>\n",
       "      <td>85.60</td>\n",
       "      <td>0.0</td>\n",
       "      <td>0.10</td>\n",
       "      <td>0.0</td>\n",
       "      <td>0.0</td>\n",
       "      <td>13.00</td>\n",
       "      <td>0.0</td>\n",
       "      <td>0.0</td>\n",
       "    </tr>\n",
       "    <tr>\n",
       "      <th>1865</th>\n",
       "      <td>167607</td>\n",
       "      <td>Moose, meat, raw (Alaska Native)</td>\n",
       "      <td>American Indian/Alaska Native Foods</td>\n",
       "      <td>103.0</td>\n",
       "      <td>22.30</td>\n",
       "      <td>0.0</td>\n",
       "      <td>1.50</td>\n",
       "      <td>54.0</td>\n",
       "      <td>0.0</td>\n",
       "      <td>74.79</td>\n",
       "      <td>0.0</td>\n",
       "      <td>4.0</td>\n",
       "    </tr>\n",
       "    <tr>\n",
       "      <th>1868</th>\n",
       "      <td>167610</td>\n",
       "      <td>Seal, bearded (Oogruk), meat, raw (Alaska Native)</td>\n",
       "      <td>American Indian/Alaska Native Foods</td>\n",
       "      <td>110.0</td>\n",
       "      <td>26.70</td>\n",
       "      <td>0.0</td>\n",
       "      <td>0.40</td>\n",
       "      <td>100.0</td>\n",
       "      <td>0.0</td>\n",
       "      <td>69.60</td>\n",
       "      <td>0.0</td>\n",
       "      <td>0.0</td>\n",
       "    </tr>\n",
       "    <tr>\n",
       "      <th>...</th>\n",
       "      <td>...</td>\n",
       "      <td>...</td>\n",
       "      <td>...</td>\n",
       "      <td>...</td>\n",
       "      <td>...</td>\n",
       "      <td>...</td>\n",
       "      <td>...</td>\n",
       "      <td>...</td>\n",
       "      <td>...</td>\n",
       "      <td>...</td>\n",
       "      <td>...</td>\n",
       "      <td>...</td>\n",
       "    </tr>\n",
       "    <tr>\n",
       "      <th>7788</th>\n",
       "      <td>175300</td>\n",
       "      <td>Game meat, buffalo, water, cooked, roasted</td>\n",
       "      <td>Lamb, Veal, and Game Products</td>\n",
       "      <td>131.0</td>\n",
       "      <td>26.83</td>\n",
       "      <td>0.0</td>\n",
       "      <td>1.80</td>\n",
       "      <td>61.0</td>\n",
       "      <td>0.0</td>\n",
       "      <td>68.81</td>\n",
       "      <td>0.0</td>\n",
       "      <td>0.0</td>\n",
       "    </tr>\n",
       "    <tr>\n",
       "      <th>7789</th>\n",
       "      <td>175301</td>\n",
       "      <td>Game meat, elk, raw</td>\n",
       "      <td>Lamb, Veal, and Game Products</td>\n",
       "      <td>111.0</td>\n",
       "      <td>22.95</td>\n",
       "      <td>0.0</td>\n",
       "      <td>1.45</td>\n",
       "      <td>55.0</td>\n",
       "      <td>0.0</td>\n",
       "      <td>74.38</td>\n",
       "      <td>0.0</td>\n",
       "      <td>0.0</td>\n",
       "    </tr>\n",
       "    <tr>\n",
       "      <th>7790</th>\n",
       "      <td>175302</td>\n",
       "      <td>Game meat, elk, cooked, roasted</td>\n",
       "      <td>Lamb, Veal, and Game Products</td>\n",
       "      <td>146.0</td>\n",
       "      <td>30.19</td>\n",
       "      <td>0.0</td>\n",
       "      <td>1.90</td>\n",
       "      <td>73.0</td>\n",
       "      <td>0.0</td>\n",
       "      <td>66.28</td>\n",
       "      <td>0.0</td>\n",
       "      <td>0.0</td>\n",
       "    </tr>\n",
       "    <tr>\n",
       "      <th>7791</th>\n",
       "      <td>175303</td>\n",
       "      <td>Game meat, goat, raw</td>\n",
       "      <td>Lamb, Veal, and Game Products</td>\n",
       "      <td>109.0</td>\n",
       "      <td>20.60</td>\n",
       "      <td>0.0</td>\n",
       "      <td>2.31</td>\n",
       "      <td>57.0</td>\n",
       "      <td>0.0</td>\n",
       "      <td>75.84</td>\n",
       "      <td>0.0</td>\n",
       "      <td>0.0</td>\n",
       "    </tr>\n",
       "    <tr>\n",
       "      <th>7792</th>\n",
       "      <td>175304</td>\n",
       "      <td>Game meat, goat, cooked, roasted</td>\n",
       "      <td>Lamb, Veal, and Game Products</td>\n",
       "      <td>143.0</td>\n",
       "      <td>27.10</td>\n",
       "      <td>0.0</td>\n",
       "      <td>3.03</td>\n",
       "      <td>75.0</td>\n",
       "      <td>0.0</td>\n",
       "      <td>68.21</td>\n",
       "      <td>0.0</td>\n",
       "      <td>0.0</td>\n",
       "    </tr>\n",
       "  </tbody>\n",
       "</table>\n",
       "<p>2138 rows × 12 columns</p>\n",
       "</div>"
      ],
      "text/plain": [
       "      FDC_ID                                               Item  \\\n",
       "472   175040                      Leavening agents, baking soda   \n",
       "551   167961                          Snacks, pork skins, plain   \n",
       "910   169599                  Gelatins, dry powder, unsweetened   \n",
       "1865  167607                   Moose, meat, raw (Alaska Native)   \n",
       "1868  167610  Seal, bearded (Oogruk), meat, raw (Alaska Native)   \n",
       "...      ...                                                ...   \n",
       "7788  175300         Game meat, buffalo, water, cooked, roasted   \n",
       "7789  175301                                Game meat, elk, raw   \n",
       "7790  175302                    Game meat, elk, cooked, roasted   \n",
       "7791  175303                               Game meat, goat, raw   \n",
       "7792  175304                   Game meat, goat, cooked, roasted   \n",
       "\n",
       "                                 Category  Calories  Protein  Carbohydrate  \\\n",
       "472                        Baked Products       0.0     0.00           0.0   \n",
       "551                                Snacks     544.0    61.30           0.0   \n",
       "910                                Sweets     335.0    85.60           0.0   \n",
       "1865  American Indian/Alaska Native Foods     103.0    22.30           0.0   \n",
       "1868  American Indian/Alaska Native Foods     110.0    26.70           0.0   \n",
       "...                                   ...       ...      ...           ...   \n",
       "7788        Lamb, Veal, and Game Products     131.0    26.83           0.0   \n",
       "7789        Lamb, Veal, and Game Products     111.0    22.95           0.0   \n",
       "7790        Lamb, Veal, and Game Products     146.0    30.19           0.0   \n",
       "7791        Lamb, Veal, and Game Products     109.0    20.60           0.0   \n",
       "7792        Lamb, Veal, and Game Products     143.0    27.10           0.0   \n",
       "\n",
       "      Total fat  Cholesterol  Fiber  Water  Alcohol  Vitamin C  \n",
       "472        0.00          0.0    0.0   0.20      0.0        0.0  \n",
       "551       31.30         95.0    0.0   1.80      0.0        0.5  \n",
       "910        0.10          0.0    0.0  13.00      0.0        0.0  \n",
       "1865       1.50         54.0    0.0  74.79      0.0        4.0  \n",
       "1868       0.40        100.0    0.0  69.60      0.0        0.0  \n",
       "...         ...          ...    ...    ...      ...        ...  \n",
       "7788       1.80         61.0    0.0  68.81      0.0        0.0  \n",
       "7789       1.45         55.0    0.0  74.38      0.0        0.0  \n",
       "7790       1.90         73.0    0.0  66.28      0.0        0.0  \n",
       "7791       2.31         57.0    0.0  75.84      0.0        0.0  \n",
       "7792       3.03         75.0    0.0  68.21      0.0        0.0  \n",
       "\n",
       "[2138 rows x 12 columns]"
      ]
     },
     "execution_count": 21,
     "metadata": {},
     "output_type": "execute_result"
    }
   ],
   "source": [
    "zero_carb = df_food_nutrition[df_food_nutrition[\"Carbohydrate\"] == 0]\n",
    "\n",
    "zero_carb"
   ]
  },
  {
   "cell_type": "code",
   "execution_count": 22,
   "id": "c82f5770-21a0-4a22-93a9-873cd0a0c5d2",
   "metadata": {
    "executionCancelledAt": null,
    "executionTime": 57,
    "lastExecutedAt": 1715243345108,
    "lastExecutedByKernel": "ca0ad6c6-0dd9-48e8-8124-171b9d3044ff",
    "lastScheduledRunId": null,
    "lastSuccessfullyExecutedCode": "zero_carb.shape"
   },
   "outputs": [
    {
     "data": {
      "text/plain": [
       "(2138, 12)"
      ]
     },
     "execution_count": 22,
     "metadata": {},
     "output_type": "execute_result"
    }
   ],
   "source": [
    "zero_carb.shape"
   ]
  },
  {
   "cell_type": "code",
   "execution_count": 23,
   "id": "04a1819f-5bf0-405c-b469-5da7c5552add",
   "metadata": {
    "executionCancelledAt": null,
    "executionTime": 56,
    "lastExecutedAt": 1715243345164,
    "lastExecutedByKernel": "ca0ad6c6-0dd9-48e8-8124-171b9d3044ff",
    "lastScheduledRunId": null,
    "lastSuccessfullyExecutedCode": "categories_zero_carb = zero_carb[\"Category\"].unique()\n\nprint(categories_zero_carb)",
    "outputsMetadata": {
     "0": {
      "height": 164,
      "type": "stream"
     }
    }
   },
   "outputs": [
    {
     "name": "stdout",
     "output_type": "stream",
     "text": [
      "['Baked Products' 'Snacks' 'Sweets' 'American Indian/Alaska Native Foods'\n",
      " 'Restaurant Foods' 'Beverages' 'Fats and Oils'\n",
      " 'Sausages and Luncheon Meats' 'Dairy and Egg Products' 'Baby Foods'\n",
      " 'Poultry Products' 'Pork Products' 'Legumes and Legume Products'\n",
      " 'Finfish and Shellfish Products' 'Beef Products' 'Fast Foods'\n",
      " 'Spices and Herbs' 'Soups, Sauces, and Gravies'\n",
      " 'Lamb, Veal, and Game Products']\n"
     ]
    }
   ],
   "source": [
    "categories_zero_carb = zero_carb[\"Category\"].unique()\n",
    "\n",
    "print(categories_zero_carb)"
   ]
  },
  {
   "cell_type": "code",
   "execution_count": 24,
   "id": "0ad382a7-03dd-4d19-9d53-ad0fa07929fb",
   "metadata": {
    "executionCancelledAt": null,
    "executionTime": 52,
    "lastExecutedAt": 1715243345216,
    "lastExecutedByKernel": "ca0ad6c6-0dd9-48e8-8124-171b9d3044ff",
    "lastScheduledRunId": null,
    "lastSuccessfullyExecutedCode": "# Categories of food excluded in a zero-carb diet\n\ncategories_zero_excl = [category for category in categories_food if category not in categories_zero_carb]\n\nprint(categories_zero_excl)",
    "outputsMetadata": {
     "0": {
      "height": 59,
      "type": "stream"
     }
    }
   },
   "outputs": [
    {
     "name": "stdout",
     "output_type": "stream",
     "text": [
      "['Vegetables and Vegetable Products', 'Breakfast Cereals', 'Fruits and Fruit Juices', 'Cereal Grains and Pasta', 'Nut and Seed Products', 'Meals, Entrees, and Side Dishes']\n"
     ]
    }
   ],
   "source": [
    "# Categories of food excluded in a zero-carb diet\n",
    "\n",
    "categories_zero_excl = [category for category in categories_food if category not in categories_zero_carb]\n",
    "\n",
    "print(categories_zero_excl)"
   ]
  },
  {
   "cell_type": "code",
   "execution_count": 25,
   "id": "f671f6ce-5411-4337-ae2e-f69bdf4c55f2",
   "metadata": {
    "executionCancelledAt": null,
    "executionTime": 51,
    "lastExecutedAt": 1715243345267,
    "lastExecutedByKernel": "ca0ad6c6-0dd9-48e8-8124-171b9d3044ff",
    "lastScheduledRunId": null,
    "lastSuccessfullyExecutedCode": "# Columns to average\ncol_to_avg_carb = zero_carb[[\"Calories\", \"Protein\", \"Total fat\", \"Cholesterol\", \"Fiber\", \"Water\", \"Alcohol\", \"Vitamin C\"]]\n\n# Averages of zero-carb diet\navg_zero_carb = col_to_avg_carb.mean()\n\nprint(avg_zero_carb)",
    "outputsMetadata": {
     "0": {
      "height": 206,
      "type": "stream"
     }
    }
   },
   "outputs": [
    {
     "name": "stdout",
     "output_type": "stream",
     "text": [
      "Calories       233.555012\n",
      "Protein         22.289935\n",
      "Total fat       15.582214\n",
      "Cholesterol     93.452760\n",
      "Fiber            0.000000\n",
      "Water           61.081712\n",
      "Alcohol          0.105613\n",
      "Vitamin C        0.669411\n",
      "dtype: float64\n"
     ]
    }
   ],
   "source": [
    "# Columns to average\n",
    "col_to_avg_carb = zero_carb[[\"Calories\", \"Protein\", \"Total fat\", \"Cholesterol\", \"Fiber\", \"Water\", \"Alcohol\", \"Vitamin C\"]]\n",
    "\n",
    "# Averages of zero-carb diet\n",
    "avg_zero_carb = col_to_avg_carb.mean()\n",
    "\n",
    "print(avg_zero_carb)"
   ]
  },
  {
   "cell_type": "markdown",
   "id": "c68f0deb-538c-47d8-bf01-a2e7f7960706",
   "metadata": {},
   "source": [
    "### 2️⃣ High-protein diet:"
   ]
  },
  {
   "cell_type": "markdown",
   "id": "364ed513-c499-464c-a8c3-29520c1105fc",
   "metadata": {},
   "source": [
    "In Europe, a high protein diet is one in which proteins provide at least 20% of the food.\n",
    "For that reason, I will create a new column that sets the protein threshold for each food and then compare the threshold for each food with the protein content each food provides. \n",
    "\n",
    "When the protein content of the food is equal to or greater than the threshold established for each food, it will be considered high in protein.\n",
    "\n",
    "**EU regulation**: https://www.boe.es/buscar/doc.php?id=DOUE-L-2006-82775"
   ]
  },
  {
   "cell_type": "code",
   "execution_count": 26,
   "id": "ef5c50c6-1385-4b00-a1a1-4d5916b87807",
   "metadata": {
    "executionCancelledAt": null,
    "executionTime": 56,
    "lastExecutedAt": 1715243345323,
    "lastExecutedByKernel": "ca0ad6c6-0dd9-48e8-8124-171b9d3044ff",
    "lastScheduledRunId": null,
    "lastSuccessfullyExecutedCode": "df_food_nutrition[\"protein threshold\"] = df_food_nutrition[\"Calories\"] * 0.20 / 4"
   },
   "outputs": [],
   "source": [
    "df_food_nutrition[\"protein threshold\"] = df_food_nutrition[\"Calories\"] * 0.20 / 4"
   ]
  },
  {
   "cell_type": "code",
   "execution_count": 27,
   "id": "91eff3ed-7d17-4a27-89e3-868535b51dbf",
   "metadata": {
    "executionCancelledAt": null,
    "executionTime": 5094,
    "lastExecutedAt": 1715243350418,
    "lastExecutedByKernel": "ca0ad6c6-0dd9-48e8-8124-171b9d3044ff",
    "lastScheduledRunId": null,
    "lastSuccessfullyExecutedCode": "# Create a new dataframe for high-protein diet\nhigh_protein = pd.DataFrame(columns=df_food_nutrition.columns)\n\n# Compare \"Calories\" and \"protein threshold\" columns and store results in \"high_protein\" dataset\nfor index, row in df_food_nutrition.iterrows():\n    if row[\"Protein\"] > row[\"protein threshold\"]:\n        high_protein = high_protein.append(row, ignore_index=True)"
   },
   "outputs": [],
   "source": [
    "# Create a new dataframe for high-protein diet\n",
    "high_protein = pd.DataFrame(columns=df_food_nutrition.columns)\n",
    "\n",
    "# Compare \"Calories\" and \"protein threshold\" columns and store results in \"high_protein\" dataset\n",
    "for index, row in df_food_nutrition.iterrows():\n",
    "    if row[\"Protein\"] > row[\"protein threshold\"]:\n",
    "        high_protein = high_protein.append(row, ignore_index=True)"
   ]
  },
  {
   "cell_type": "code",
   "execution_count": 28,
   "id": "c9a67a46-1e23-41b4-9aa6-527ad3b827c5",
   "metadata": {
    "executionCancelledAt": null,
    "executionTime": 145,
    "lastExecutedAt": 1715243350564,
    "lastExecutedByKernel": "ca0ad6c6-0dd9-48e8-8124-171b9d3044ff",
    "lastScheduledRunId": null,
    "lastSuccessfullyExecutedCode": "high_protein = high_protein.sort_values(by=\"Protein\", ascending=False)\n\nhigh_protein",
    "outputsMetadata": {
     "0": {
      "height": 321,
      "type": "dataFrame"
     }
    }
   },
   "outputs": [
    {
     "data": {
      "text/html": [
       "<div>\n",
       "<style scoped>\n",
       "    .dataframe tbody tr th:only-of-type {\n",
       "        vertical-align: middle;\n",
       "    }\n",
       "\n",
       "    .dataframe tbody tr th {\n",
       "        vertical-align: top;\n",
       "    }\n",
       "\n",
       "    .dataframe thead th {\n",
       "        text-align: right;\n",
       "    }\n",
       "</style>\n",
       "<table border=\"1\" class=\"dataframe\">\n",
       "  <thead>\n",
       "    <tr style=\"text-align: right;\">\n",
       "      <th></th>\n",
       "      <th>FDC_ID</th>\n",
       "      <th>Item</th>\n",
       "      <th>Category</th>\n",
       "      <th>Calories</th>\n",
       "      <th>Protein</th>\n",
       "      <th>Carbohydrate</th>\n",
       "      <th>Total fat</th>\n",
       "      <th>Cholesterol</th>\n",
       "      <th>Fiber</th>\n",
       "      <th>Water</th>\n",
       "      <th>Alcohol</th>\n",
       "      <th>Vitamin C</th>\n",
       "      <th>protein threshold</th>\n",
       "    </tr>\n",
       "  </thead>\n",
       "  <tbody>\n",
       "    <tr>\n",
       "      <th>1768</th>\n",
       "      <td>174302</td>\n",
       "      <td>Soy protein isolate, potassium type</td>\n",
       "      <td>Legumes and Legume Products</td>\n",
       "      <td>321.0</td>\n",
       "      <td>88.32</td>\n",
       "      <td>2.59</td>\n",
       "      <td>0.53</td>\n",
       "      <td>0.0</td>\n",
       "      <td>0.0</td>\n",
       "      <td>4.98</td>\n",
       "      <td>0.0</td>\n",
       "      <td>0.0</td>\n",
       "      <td>16.05</td>\n",
       "    </tr>\n",
       "    <tr>\n",
       "      <th>1746</th>\n",
       "      <td>174276</td>\n",
       "      <td>Soy protein isolate</td>\n",
       "      <td>Legumes and Legume Products</td>\n",
       "      <td>335.0</td>\n",
       "      <td>88.32</td>\n",
       "      <td>0.00</td>\n",
       "      <td>3.39</td>\n",
       "      <td>0.0</td>\n",
       "      <td>0.0</td>\n",
       "      <td>4.98</td>\n",
       "      <td>0.0</td>\n",
       "      <td>0.0</td>\n",
       "      <td>16.75</td>\n",
       "    </tr>\n",
       "    <tr>\n",
       "      <th>24</th>\n",
       "      <td>169599</td>\n",
       "      <td>Gelatins, dry powder, unsweetened</td>\n",
       "      <td>Sweets</td>\n",
       "      <td>335.0</td>\n",
       "      <td>85.60</td>\n",
       "      <td>0.00</td>\n",
       "      <td>0.10</td>\n",
       "      <td>0.0</td>\n",
       "      <td>0.0</td>\n",
       "      <td>13.00</td>\n",
       "      <td>0.0</td>\n",
       "      <td>0.0</td>\n",
       "      <td>16.75</td>\n",
       "    </tr>\n",
       "    <tr>\n",
       "      <th>763</th>\n",
       "      <td>170895</td>\n",
       "      <td>Egg, white, dried, stabilized, glucose reduced</td>\n",
       "      <td>Dairy and Egg Products</td>\n",
       "      <td>357.0</td>\n",
       "      <td>84.08</td>\n",
       "      <td>4.51</td>\n",
       "      <td>0.32</td>\n",
       "      <td>0.0</td>\n",
       "      <td>0.0</td>\n",
       "      <td>5.48</td>\n",
       "      <td>0.0</td>\n",
       "      <td>0.0</td>\n",
       "      <td>17.85</td>\n",
       "    </tr>\n",
       "    <tr>\n",
       "      <th>473</th>\n",
       "      <td>168020</td>\n",
       "      <td>Seal, bearded (Oogruk), meat, dried (Alaska Na...</td>\n",
       "      <td>American Indian/Alaska Native Foods</td>\n",
       "      <td>351.0</td>\n",
       "      <td>82.60</td>\n",
       "      <td>0.00</td>\n",
       "      <td>2.30</td>\n",
       "      <td>0.0</td>\n",
       "      <td>0.0</td>\n",
       "      <td>11.60</td>\n",
       "      <td>0.0</td>\n",
       "      <td>0.0</td>\n",
       "      <td>17.55</td>\n",
       "    </tr>\n",
       "    <tr>\n",
       "      <th>...</th>\n",
       "      <td>...</td>\n",
       "      <td>...</td>\n",
       "      <td>...</td>\n",
       "      <td>...</td>\n",
       "      <td>...</td>\n",
       "      <td>...</td>\n",
       "      <td>...</td>\n",
       "      <td>...</td>\n",
       "      <td>...</td>\n",
       "      <td>...</td>\n",
       "      <td>...</td>\n",
       "      <td>...</td>\n",
       "      <td>...</td>\n",
       "    </tr>\n",
       "    <tr>\n",
       "      <th>612</th>\n",
       "      <td>175099</td>\n",
       "      <td>Beverages, carbonated, low calorie, cola or pe...</td>\n",
       "      <td>Beverages</td>\n",
       "      <td>2.0</td>\n",
       "      <td>0.11</td>\n",
       "      <td>0.29</td>\n",
       "      <td>0.03</td>\n",
       "      <td>0.0</td>\n",
       "      <td>0.0</td>\n",
       "      <td>99.54</td>\n",
       "      <td>0.0</td>\n",
       "      <td>0.0</td>\n",
       "      <td>0.10</td>\n",
       "    </tr>\n",
       "    <tr>\n",
       "      <th>582</th>\n",
       "      <td>171889</td>\n",
       "      <td>Beverages, coffee, brewed, prepared with tap w...</td>\n",
       "      <td>Beverages</td>\n",
       "      <td>0.0</td>\n",
       "      <td>0.10</td>\n",
       "      <td>0.00</td>\n",
       "      <td>0.00</td>\n",
       "      <td>0.0</td>\n",
       "      <td>0.0</td>\n",
       "      <td>99.30</td>\n",
       "      <td>0.0</td>\n",
       "      <td>0.0</td>\n",
       "      <td>0.00</td>\n",
       "    </tr>\n",
       "    <tr>\n",
       "      <th>597</th>\n",
       "      <td>173204</td>\n",
       "      <td>Beverages, carbonated, low calorie, other than...</td>\n",
       "      <td>Beverages</td>\n",
       "      <td>0.0</td>\n",
       "      <td>0.10</td>\n",
       "      <td>0.00</td>\n",
       "      <td>0.00</td>\n",
       "      <td>0.0</td>\n",
       "      <td>0.0</td>\n",
       "      <td>99.80</td>\n",
       "      <td>0.0</td>\n",
       "      <td>0.0</td>\n",
       "      <td>0.00</td>\n",
       "    </tr>\n",
       "    <tr>\n",
       "      <th>598</th>\n",
       "      <td>173207</td>\n",
       "      <td>Beverages, carbonated, low calorie, other than...</td>\n",
       "      <td>Beverages</td>\n",
       "      <td>0.0</td>\n",
       "      <td>0.10</td>\n",
       "      <td>0.00</td>\n",
       "      <td>0.00</td>\n",
       "      <td>0.0</td>\n",
       "      <td>0.0</td>\n",
       "      <td>99.80</td>\n",
       "      <td>0.0</td>\n",
       "      <td>0.0</td>\n",
       "      <td>0.00</td>\n",
       "    </tr>\n",
       "    <tr>\n",
       "      <th>611</th>\n",
       "      <td>174873</td>\n",
       "      <td>Beverages, tea, instant, unsweetened, prepared...</td>\n",
       "      <td>Beverages</td>\n",
       "      <td>1.0</td>\n",
       "      <td>0.06</td>\n",
       "      <td>0.17</td>\n",
       "      <td>0.00</td>\n",
       "      <td>0.0</td>\n",
       "      <td>0.0</td>\n",
       "      <td>99.62</td>\n",
       "      <td>0.0</td>\n",
       "      <td>0.0</td>\n",
       "      <td>0.05</td>\n",
       "    </tr>\n",
       "  </tbody>\n",
       "</table>\n",
       "<p>3745 rows × 13 columns</p>\n",
       "</div>"
      ],
      "text/plain": [
       "      FDC_ID                                               Item  \\\n",
       "1768  174302                Soy protein isolate, potassium type   \n",
       "1746  174276                                Soy protein isolate   \n",
       "24    169599                  Gelatins, dry powder, unsweetened   \n",
       "763   170895     Egg, white, dried, stabilized, glucose reduced   \n",
       "473   168020  Seal, bearded (Oogruk), meat, dried (Alaska Na...   \n",
       "...      ...                                                ...   \n",
       "612   175099  Beverages, carbonated, low calorie, cola or pe...   \n",
       "582   171889  Beverages, coffee, brewed, prepared with tap w...   \n",
       "597   173204  Beverages, carbonated, low calorie, other than...   \n",
       "598   173207  Beverages, carbonated, low calorie, other than...   \n",
       "611   174873  Beverages, tea, instant, unsweetened, prepared...   \n",
       "\n",
       "                                 Category  Calories  Protein  Carbohydrate  \\\n",
       "1768          Legumes and Legume Products     321.0    88.32          2.59   \n",
       "1746          Legumes and Legume Products     335.0    88.32          0.00   \n",
       "24                                 Sweets     335.0    85.60          0.00   \n",
       "763                Dairy and Egg Products     357.0    84.08          4.51   \n",
       "473   American Indian/Alaska Native Foods     351.0    82.60          0.00   \n",
       "...                                   ...       ...      ...           ...   \n",
       "612                             Beverages       2.0     0.11          0.29   \n",
       "582                             Beverages       0.0     0.10          0.00   \n",
       "597                             Beverages       0.0     0.10          0.00   \n",
       "598                             Beverages       0.0     0.10          0.00   \n",
       "611                             Beverages       1.0     0.06          0.17   \n",
       "\n",
       "      Total fat  Cholesterol  Fiber  Water  Alcohol  Vitamin C  \\\n",
       "1768       0.53          0.0    0.0   4.98      0.0        0.0   \n",
       "1746       3.39          0.0    0.0   4.98      0.0        0.0   \n",
       "24         0.10          0.0    0.0  13.00      0.0        0.0   \n",
       "763        0.32          0.0    0.0   5.48      0.0        0.0   \n",
       "473        2.30          0.0    0.0  11.60      0.0        0.0   \n",
       "...         ...          ...    ...    ...      ...        ...   \n",
       "612        0.03          0.0    0.0  99.54      0.0        0.0   \n",
       "582        0.00          0.0    0.0  99.30      0.0        0.0   \n",
       "597        0.00          0.0    0.0  99.80      0.0        0.0   \n",
       "598        0.00          0.0    0.0  99.80      0.0        0.0   \n",
       "611        0.00          0.0    0.0  99.62      0.0        0.0   \n",
       "\n",
       "      protein threshold  \n",
       "1768              16.05  \n",
       "1746              16.75  \n",
       "24                16.75  \n",
       "763               17.85  \n",
       "473               17.55  \n",
       "...                 ...  \n",
       "612                0.10  \n",
       "582                0.00  \n",
       "597                0.00  \n",
       "598                0.00  \n",
       "611                0.05  \n",
       "\n",
       "[3745 rows x 13 columns]"
      ]
     },
     "execution_count": 28,
     "metadata": {},
     "output_type": "execute_result"
    }
   ],
   "source": [
    "high_protein = high_protein.sort_values(by=\"Protein\", ascending=False)\n",
    "\n",
    "high_protein"
   ]
  },
  {
   "cell_type": "code",
   "execution_count": 29,
   "id": "bd07e3ab-2335-42ae-89a7-656d76b7fa73",
   "metadata": {
    "executionCancelledAt": null,
    "executionTime": 56,
    "lastExecutedAt": 1715243350620,
    "lastExecutedByKernel": "ca0ad6c6-0dd9-48e8-8124-171b9d3044ff",
    "lastScheduledRunId": null,
    "lastSuccessfullyExecutedCode": "high_protein.shape"
   },
   "outputs": [
    {
     "data": {
      "text/plain": [
       "(3745, 13)"
      ]
     },
     "execution_count": 29,
     "metadata": {},
     "output_type": "execute_result"
    }
   ],
   "source": [
    "high_protein.shape"
   ]
  },
  {
   "cell_type": "code",
   "execution_count": 30,
   "id": "fdacd92a-de18-4e47-95c9-2895e9058225",
   "metadata": {
    "executionCancelledAt": null,
    "executionTime": 51,
    "lastExecutedAt": 1715243350672,
    "lastExecutedByKernel": "ca0ad6c6-0dd9-48e8-8124-171b9d3044ff",
    "lastScheduledRunId": null,
    "lastSuccessfullyExecutedCode": "categories_high_protein = high_protein[\"Category\"].unique()\n\nprint(categories_high_protein)",
    "outputsMetadata": {
     "0": {
      "height": 206,
      "type": "stream"
     }
    }
   },
   "outputs": [
    {
     "name": "stdout",
     "output_type": "stream",
     "text": [
      "['Legumes and Legume Products' 'Sweets' 'Dairy and Egg Products'\n",
      " 'American Indian/Alaska Native Foods' 'Beverages'\n",
      " 'Cereal Grains and Pasta' 'Finfish and Shellfish Products' 'Snacks'\n",
      " 'Vegetables and Vegetable Products' 'Nut and Seed Products'\n",
      " 'Baked Products' 'Pork Products' 'Lamb, Veal, and Game Products'\n",
      " 'Beef Products' 'Poultry Products' 'Restaurant Foods' 'Breakfast Cereals'\n",
      " 'Sausages and Luncheon Meats' 'Fast Foods' 'Spices and Herbs'\n",
      " 'Baby Foods' 'Meals, Entrees, and Side Dishes'\n",
      " 'Soups, Sauces, and Gravies' 'Fats and Oils']\n"
     ]
    }
   ],
   "source": [
    "categories_high_protein = high_protein[\"Category\"].unique()\n",
    "\n",
    "print(categories_high_protein)"
   ]
  },
  {
   "cell_type": "code",
   "execution_count": 31,
   "id": "0f9445f0-57f6-4627-ac1d-e955a7f44589",
   "metadata": {
    "executionCancelledAt": null,
    "executionTime": 50,
    "lastExecutedAt": 1715243350723,
    "lastExecutedByKernel": "ca0ad6c6-0dd9-48e8-8124-171b9d3044ff",
    "lastScheduledRunId": null,
    "lastSuccessfullyExecutedCode": "categories_high_protein_excl = [category for category in categories_high_protein if category not in categories_food] "
   },
   "outputs": [],
   "source": [
    "categories_high_protein_excl = [category for category in categories_high_protein if category not in categories_food] "
   ]
  },
  {
   "cell_type": "code",
   "execution_count": 32,
   "id": "8dd769f4-0a02-4fba-99ae-99126e49718a",
   "metadata": {
    "executionCancelledAt": null,
    "executionTime": 56,
    "lastExecutedAt": 1715243350780,
    "lastExecutedByKernel": "ca0ad6c6-0dd9-48e8-8124-171b9d3044ff",
    "lastScheduledRunId": null,
    "lastSuccessfullyExecutedCode": "categories_high_protein_excl"
   },
   "outputs": [
    {
     "data": {
      "text/plain": [
       "[]"
      ]
     },
     "execution_count": 32,
     "metadata": {},
     "output_type": "execute_result"
    }
   ],
   "source": [
    "categories_high_protein_excl"
   ]
  },
  {
   "cell_type": "code",
   "execution_count": 33,
   "id": "4c814e71-ed30-4350-9c07-c0e633d91e41",
   "metadata": {
    "executionCancelledAt": null,
    "executionTime": 55,
    "lastExecutedAt": 1715243350835,
    "lastExecutedByKernel": "ca0ad6c6-0dd9-48e8-8124-171b9d3044ff",
    "lastScheduledRunId": null,
    "lastSuccessfullyExecutedCode": "# Columns to average\ncol_to_avg_protein = high_protein[[\"Calories\", \"Protein\", \"Total fat\", \"Cholesterol\", \"Fiber\", \"Water\", \"Alcohol\", \"Vitamin C\"]]\n\n# Averages of high-protein diet\navg_high_protein = col_to_avg_protein.mean()\n\nprint(avg_high_protein)",
    "outputsMetadata": {
     "0": {
      "height": 206,
      "type": "stream"
     }
    }
   },
   "outputs": [
    {
     "name": "stdout",
     "output_type": "stream",
     "text": [
      "Calories       171.761713\n",
      "Protein         19.408016\n",
      "Total fat        8.224538\n",
      "Cholesterol     75.819493\n",
      "Fiber            0.996048\n",
      "Water           66.024315\n",
      "Alcohol          0.000000\n",
      "Vitamin C        5.192016\n",
      "dtype: float64\n"
     ]
    }
   ],
   "source": [
    "# Columns to average\n",
    "col_to_avg_protein = high_protein[[\"Calories\", \"Protein\", \"Total fat\", \"Cholesterol\", \"Fiber\", \"Water\", \"Alcohol\", \"Vitamin C\"]]\n",
    "\n",
    "# Averages of high-protein diet\n",
    "avg_high_protein = col_to_avg_protein.mean()\n",
    "\n",
    "print(avg_high_protein)"
   ]
  },
  {
   "cell_type": "markdown",
   "id": "a45523d6-a66f-46e6-9c4d-f91c1a73cfa7",
   "metadata": {},
   "source": [
    "## 💡 According to the Cleveland Clinic website, a gram of fat has around 9 kilocalories, and a gram of protein and a gram of carbohydrate contain 4 kilocalories each. Fit a linear model to test whether these estimates agree with the data."
   ]
  },
  {
   "cell_type": "code",
   "execution_count": 34,
   "id": "7bc30702-6a07-4a6e-8d04-53dbe720980b",
   "metadata": {
    "executionCancelledAt": null,
    "executionTime": 131,
    "lastExecutedAt": 1715243350966,
    "lastExecutedByKernel": "ca0ad6c6-0dd9-48e8-8124-171b9d3044ff",
    "lastScheduledRunId": null,
    "lastSuccessfullyExecutedCode": "# Calculate the expected calorie content based on estimates\ndf_food_nutrition[\"expected_calories\"] = 4 * df_food_nutrition[\"Protein\"] + 4 * df_food_nutrition[\"Carbohydrate\"] + df_food_nutrition[\"Total fat\"]\n\n# Fit the lineal model\nX = df_food_nutrition[[\"Protein\", \"Carbohydrate\", \"Total fat\"]]\ny = df_food_nutrition[\"Calories\"]\n\nmodel = LinearRegression()\nresults = model.fit(X, y)\n\n# Predict calorie values using the fitted model\ny_pred = model.predict(X)\n\n# Model coefficients\nprint(\"Model coefficients:\")\nprint(f\"- Protein: {round(model.coef_[0], 2)}\")\nprint(f\"- Carbohydrate: {round(model.coef_[1], 2)}\")\nprint(f\"- Fat: {round(model.coef_[2], 2)}\\n\")\n\n# Rounded model coefficients\nprint(\"Rounded model coefficients:\")\nprint(f\"- Protein: {round(model.coef_[0])}\")\nprint(f\"- Carbohydrate: {round(model.coef_[1])}\")\nprint(f\"- Fat: {round(model.coef_[2])}\")",
    "outputsMetadata": {
     "0": {
      "height": 206,
      "type": "stream"
     }
    }
   },
   "outputs": [
    {
     "name": "stdout",
     "output_type": "stream",
     "text": [
      "Model coefficients:\n",
      "- Protein: 4.0\n",
      "- Carbohydrate: 3.8\n",
      "- Fat: 8.8\n",
      "\n",
      "Rounded model coefficients:\n",
      "- Protein: 4\n",
      "- Carbohydrate: 4\n",
      "- Fat: 9\n"
     ]
    }
   ],
   "source": [
    "# Calculate the expected calorie content based on estimates\n",
    "df_food_nutrition[\"expected_calories\"] = 4 * df_food_nutrition[\"Protein\"] + 4 * df_food_nutrition[\"Carbohydrate\"] + df_food_nutrition[\"Total fat\"]\n",
    "\n",
    "# Fit the lineal model\n",
    "X = df_food_nutrition[[\"Protein\", \"Carbohydrate\", \"Total fat\"]]\n",
    "y = df_food_nutrition[\"Calories\"]\n",
    "\n",
    "model = LinearRegression()\n",
    "results = model.fit(X, y)\n",
    "\n",
    "# Predict calorie values using the fitted model\n",
    "y_pred = model.predict(X)\n",
    "\n",
    "# Model coefficients\n",
    "print(\"Model coefficients:\")\n",
    "print(f\"- Protein: {round(model.coef_[0], 2)}\")\n",
    "print(f\"- Carbohydrate: {round(model.coef_[1], 2)}\")\n",
    "print(f\"- Fat: {round(model.coef_[2], 2)}\\n\")\n",
    "\n",
    "# Rounded model coefficients\n",
    "print(\"Rounded model coefficients:\")\n",
    "print(f\"- Protein: {round(model.coef_[0])}\")\n",
    "print(f\"- Carbohydrate: {round(model.coef_[1])}\")\n",
    "print(f\"- Fat: {round(model.coef_[2])}\")"
   ]
  },
  {
   "cell_type": "markdown",
   "id": "24060fa6-de2c-4f82-b73b-60fa3c2b0436",
   "metadata": {},
   "source": [
    "## 💡 Analyze the errors of your linear model to see what could be the hidden sources of calories in food."
   ]
  },
  {
   "cell_type": "code",
   "execution_count": 35,
   "id": "60a21ac4-6907-4ccd-90c7-7de15d6f0332",
   "metadata": {
    "executionCancelledAt": null,
    "executionTime": 48,
    "lastExecutedAt": 1715243351015,
    "lastExecutedByKernel": "ca0ad6c6-0dd9-48e8-8124-171b9d3044ff",
    "lastScheduledRunId": null,
    "lastSuccessfullyExecutedCode": "# Calculate the mean square error (MSE)\nmse = mean_squared_error(y, y_pred)\nprint(f\"Mean Squared Error (MSE): {mse}\")\n\n# Calculate the mean absolute error (MAE)\nmae = mean_absolute_error(y, y_pred)\nprint(f\"Mean Absolute Error (MAE): {mae}\\n\")\n\n# Calculate model residuals\nresiduals = y - y_pred\n\n# Identify observations with the largest residuals\noutlier_observations = df_food_nutrition.loc[np.abs(residuals) > 2 * np.sqrt(mse)]\n\nprint(\"Number of observations with the largest residuals:\", outlier_observations['FDC_ID'].nunique())\nprint(\"Observations with the largest residuals:\")\n\noutlier_observations[[\"Item\", \"Category\", \"Calories\", \"Protein\", \"Carbohydrate\", \"Total fat\"]]",
    "outputsMetadata": {
     "0": {
      "height": 122,
      "type": "stream"
     },
     "1": {
      "height": 321,
      "type": "dataFrame"
     }
    }
   },
   "outputs": [
    {
     "name": "stdout",
     "output_type": "stream",
     "text": [
      "Mean Squared Error (MSE): 291.7522292268119\n",
      "Mean Absolute Error (MAE): 7.569804496327667\n",
      "\n",
      "Number of observations with the largest residuals: 192\n",
      "Observations with the largest residuals:\n"
     ]
    },
    {
     "data": {
      "text/html": [
       "<div>\n",
       "<style scoped>\n",
       "    .dataframe tbody tr th:only-of-type {\n",
       "        vertical-align: middle;\n",
       "    }\n",
       "\n",
       "    .dataframe tbody tr th {\n",
       "        vertical-align: top;\n",
       "    }\n",
       "\n",
       "    .dataframe thead th {\n",
       "        text-align: right;\n",
       "    }\n",
       "</style>\n",
       "<table border=\"1\" class=\"dataframe\">\n",
       "  <thead>\n",
       "    <tr style=\"text-align: right;\">\n",
       "      <th></th>\n",
       "      <th>Item</th>\n",
       "      <th>Category</th>\n",
       "      <th>Calories</th>\n",
       "      <th>Protein</th>\n",
       "      <th>Carbohydrate</th>\n",
       "      <th>Total fat</th>\n",
       "    </tr>\n",
       "  </thead>\n",
       "  <tbody>\n",
       "    <tr>\n",
       "      <th>248</th>\n",
       "      <td>Leavening agents, baking powder, double-acting...</td>\n",
       "      <td>Baked Products</td>\n",
       "      <td>53.0</td>\n",
       "      <td>0.00</td>\n",
       "      <td>27.70</td>\n",
       "      <td>0.00</td>\n",
       "    </tr>\n",
       "    <tr>\n",
       "      <th>249</th>\n",
       "      <td>Leavening agents, baking powder, double-acting...</td>\n",
       "      <td>Baked Products</td>\n",
       "      <td>51.0</td>\n",
       "      <td>0.10</td>\n",
       "      <td>24.10</td>\n",
       "      <td>0.00</td>\n",
       "    </tr>\n",
       "    <tr>\n",
       "      <th>250</th>\n",
       "      <td>Leavening agents, baking powder, low-sodium</td>\n",
       "      <td>Baked Products</td>\n",
       "      <td>97.0</td>\n",
       "      <td>0.10</td>\n",
       "      <td>46.90</td>\n",
       "      <td>0.40</td>\n",
       "    </tr>\n",
       "    <tr>\n",
       "      <th>475</th>\n",
       "      <td>Leavening agents, yeast, baker's, active dry</td>\n",
       "      <td>Baked Products</td>\n",
       "      <td>325.0</td>\n",
       "      <td>40.44</td>\n",
       "      <td>41.22</td>\n",
       "      <td>7.61</td>\n",
       "    </tr>\n",
       "    <tr>\n",
       "      <th>578</th>\n",
       "      <td>Tortilla chips, low fat, baked without fat</td>\n",
       "      <td>Snacks</td>\n",
       "      <td>448.0</td>\n",
       "      <td>11.00</td>\n",
       "      <td>80.20</td>\n",
       "      <td>5.70</td>\n",
       "    </tr>\n",
       "    <tr>\n",
       "      <th>...</th>\n",
       "      <td>...</td>\n",
       "      <td>...</td>\n",
       "      <td>...</td>\n",
       "      <td>...</td>\n",
       "      <td>...</td>\n",
       "      <td>...</td>\n",
       "    </tr>\n",
       "    <tr>\n",
       "      <th>7052</th>\n",
       "      <td>Spices, rosemary, dried</td>\n",
       "      <td>Spices and Herbs</td>\n",
       "      <td>331.0</td>\n",
       "      <td>4.88</td>\n",
       "      <td>64.06</td>\n",
       "      <td>15.22</td>\n",
       "    </tr>\n",
       "    <tr>\n",
       "      <th>7057</th>\n",
       "      <td>Vanilla extract, imitation, alcohol</td>\n",
       "      <td>Spices and Herbs</td>\n",
       "      <td>237.0</td>\n",
       "      <td>0.05</td>\n",
       "      <td>2.41</td>\n",
       "      <td>0.00</td>\n",
       "    </tr>\n",
       "    <tr>\n",
       "      <th>7061</th>\n",
       "      <td>Spearmint, dried</td>\n",
       "      <td>Spices and Herbs</td>\n",
       "      <td>285.0</td>\n",
       "      <td>19.93</td>\n",
       "      <td>52.04</td>\n",
       "      <td>6.03</td>\n",
       "    </tr>\n",
       "    <tr>\n",
       "      <th>7065</th>\n",
       "      <td>Seasoning mix, dry, taco, original</td>\n",
       "      <td>Spices and Herbs</td>\n",
       "      <td>322.0</td>\n",
       "      <td>4.50</td>\n",
       "      <td>58.00</td>\n",
       "      <td>0.00</td>\n",
       "    </tr>\n",
       "    <tr>\n",
       "      <th>7069</th>\n",
       "      <td>Vanilla extract</td>\n",
       "      <td>Spices and Herbs</td>\n",
       "      <td>288.0</td>\n",
       "      <td>0.06</td>\n",
       "      <td>12.65</td>\n",
       "      <td>0.06</td>\n",
       "    </tr>\n",
       "  </tbody>\n",
       "</table>\n",
       "<p>192 rows × 6 columns</p>\n",
       "</div>"
      ],
      "text/plain": [
       "                                                   Item          Category  \\\n",
       "248   Leavening agents, baking powder, double-acting...    Baked Products   \n",
       "249   Leavening agents, baking powder, double-acting...    Baked Products   \n",
       "250         Leavening agents, baking powder, low-sodium    Baked Products   \n",
       "475        Leavening agents, yeast, baker's, active dry    Baked Products   \n",
       "578          Tortilla chips, low fat, baked without fat            Snacks   \n",
       "...                                                 ...               ...   \n",
       "7052                            Spices, rosemary, dried  Spices and Herbs   \n",
       "7057                Vanilla extract, imitation, alcohol  Spices and Herbs   \n",
       "7061                                   Spearmint, dried  Spices and Herbs   \n",
       "7065                 Seasoning mix, dry, taco, original  Spices and Herbs   \n",
       "7069                                    Vanilla extract  Spices and Herbs   \n",
       "\n",
       "      Calories  Protein  Carbohydrate  Total fat  \n",
       "248       53.0     0.00         27.70       0.00  \n",
       "249       51.0     0.10         24.10       0.00  \n",
       "250       97.0     0.10         46.90       0.40  \n",
       "475      325.0    40.44         41.22       7.61  \n",
       "578      448.0    11.00         80.20       5.70  \n",
       "...        ...      ...           ...        ...  \n",
       "7052     331.0     4.88         64.06      15.22  \n",
       "7057     237.0     0.05          2.41       0.00  \n",
       "7061     285.0    19.93         52.04       6.03  \n",
       "7065     322.0     4.50         58.00       0.00  \n",
       "7069     288.0     0.06         12.65       0.06  \n",
       "\n",
       "[192 rows x 6 columns]"
      ]
     },
     "execution_count": 35,
     "metadata": {},
     "output_type": "execute_result"
    }
   ],
   "source": [
    "# Calculate the mean square error (MSE)\n",
    "mse = mean_squared_error(y, y_pred)\n",
    "print(f\"Mean Squared Error (MSE): {mse}\")\n",
    "\n",
    "# Calculate the mean absolute error (MAE)\n",
    "mae = mean_absolute_error(y, y_pred)\n",
    "print(f\"Mean Absolute Error (MAE): {mae}\\n\")\n",
    "\n",
    "# Calculate model residuals\n",
    "residuals = y - y_pred\n",
    "\n",
    "# Identify observations with the largest residuals\n",
    "outlier_observations = df_food_nutrition.loc[np.abs(residuals) > 2 * np.sqrt(mse)]\n",
    "\n",
    "print(\"Number of observations with the largest residuals:\", outlier_observations['FDC_ID'].nunique())\n",
    "print(\"Observations with the largest residuals:\")\n",
    "\n",
    "outlier_observations[[\"Item\", \"Category\", \"Calories\", \"Protein\", \"Carbohydrate\", \"Total fat\"]]"
   ]
  },
  {
   "cell_type": "code",
   "execution_count": 36,
   "id": "889dbbaf-ab40-4164-b9ab-2e44ed24c08c",
   "metadata": {
    "executionCancelledAt": null,
    "executionTime": 382,
    "lastExecutedAt": 1715243351397,
    "lastExecutedByKernel": "ca0ad6c6-0dd9-48e8-8124-171b9d3044ff",
    "lastScheduledRunId": null,
    "lastSuccessfullyExecutedCode": "plt.figure(figsize=(8,6))\nsns.scatterplot(x=y_pred, y=residuals, color='blue')\nplt.axhline(y=0, color='red', linestyle='--')\nplt.title('Residuals of the Linear Regression Model')\nplt.xlabel('Predicted Values')\nplt.ylabel('Residuals')\nplt.show()"
   },
   "outputs": [
    {
     "data": {
      "image/png": "[encoded data removed]",
      "text/plain": [
       "<Figure size 576x432 with 1 Axes>"
      ]
     },
     "metadata": {},
     "output_type": "display_data"
    }
   ],
   "source": [
    "plt.figure(figsize=(8,6))\n",
    "sns.scatterplot(x=y_pred, y=residuals, color='blue')\n",
    "plt.axhline(y=0, color='red', linestyle='--')\n",
    "plt.title('Residuals of the Linear Regression Model')\n",
    "plt.xlabel('Predicted Values')\n",
    "plt.ylabel('Residuals')\n",
    "plt.show()"
   ]
  }
 ],
 "metadata": {
  "editor": "DataCamp Workspace",
  "kernelspec": {
   "display_name": "Python 3 (ipykernel)",
   "language": "python",
   "name": "python3"
  },
  "language_info": {
   "codemirror_mode": {
    "name": "ipython",
    "version": 3
   },
   "file_extension": ".py",
   "mimetype": "text/x-python",
   "name": "python",
   "nbconvert_exporter": "python",
   "pygments_lexer": "ipython3",
   "version": "3.9.7"
  }
 },
 "nbformat": 4,
 "nbformat_minor": 5
}
